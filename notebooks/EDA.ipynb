{
 "cells": [
  {
   "cell_type": "code",
   "execution_count": 48,
   "id": "cb926c9d",
   "metadata": {},
   "outputs": [],
   "source": [
    "import pandas as pd\n",
    "import numpy as np\n",
    "\n",
    "import scipy.stats as stats\n",
    "\n",
    "import matplotlib.pyplot as plt\n",
    "import seaborn as sns\n",
    "\n",
    "from tqdm.notebook import tqdm\n",
    "\n",
    "import yaml\n",
    "\n",
    "from sklearn.cluster import DBSCAN\n",
    "from sklearn.neighbors import NearestNeighbors\n",
    "from sklearn.preprocessing import StandardScaler\n",
    "\n",
    "import spacy\n",
    "\n",
    "from multiprocessing import Pool, cpu_count\n",
    " \n",
    "\n",
    "RAND = 42"
   ]
  },
  {
   "cell_type": "code",
   "execution_count": 2,
   "id": "40200416",
   "metadata": {},
   "outputs": [],
   "source": [
    "def get_bins_target(df: pd.DataFrame, target_name: str) -> None:\n",
    "    # нормирование на размер датасета\n",
    "    norm_target = (df[target_name].value_counts(\n",
    "        normalize=True).mul(100).rename('percent').reset_index())\n",
    "\n",
    "    plt.figure(figsize=(15, 7))\n",
    "    ax = sns.barplot(x='index', y='percent', data=norm_target)\n",
    "\n",
    "    # Вывод значений над графиками - annotate()\n",
    "    # В цикле смотрим каждый столбец графика и на нем отмечаем значения\n",
    "    for p in ax.patches:\n",
    "        percentage = '{:.1f}%'.format(p.get_height())\n",
    "        ax.annotate(\n",
    "            percentage,  # текст\n",
    "            # координата xy\n",
    "            (p.get_x() + p.get_width() / 2., p.get_height()),\n",
    "            # центрирование\n",
    "            ha='center',\n",
    "            va='center',\n",
    "            xytext=(0, 10),\n",
    "            # точка смещения относительно координаты\n",
    "            textcoords='offset points',\n",
    "            fontsize=14)\n",
    "\n",
    "    plt.title(target_name, fontsize=20)\n",
    "    plt.xlabel(target_name, fontsize=14)\n",
    "    plt.ylabel('Проценты', fontsize=14)\n",
    "\n",
    "    plt.xticks(fontsize=14)\n",
    "    plt.yticks(fontsize=14)\n",
    "    plt.show()"
   ]
  },
  {
   "cell_type": "code",
   "execution_count": 69,
   "id": "51c9456a",
   "metadata": {},
   "outputs": [],
   "source": [
    "def barplot_group(df: pd.DataFrame, col_main: str, col_group: str, title: str = None) -> None:\n",
    "    \"\"\"\n",
    "    Построение barplot с нормированными данными с выводом значений на графике\n",
    "    \"\"\"\n",
    "\n",
    "    plt.figure(figsize=(15, 6))\n",
    "\n",
    "    data = (df.groupby([col_group])[col_main]\n",
    "            .value_counts(normalize=True)\n",
    "            .rename('percentage')\n",
    "            .mul(100)\n",
    "            .reset_index()\n",
    "            .sort_values(col_group))\n",
    "\n",
    "    ax = sns.barplot(x=col_main, y=\"percentage\",\n",
    "                     hue=col_group, data=data, palette='rocket')\n",
    "\n",
    "    for p in ax.patches:\n",
    "        percentage = '{:.1f}%'.format(p.get_height())\n",
    "        ax.annotate(percentage,  # текст\n",
    "                    (p.get_x() + p.get_width() / 2.,\n",
    "                     p.get_height()),  # координата xy\n",
    "                    ha='center',  # центрирование\n",
    "                    va='center',\n",
    "                    xytext=(0, 7),\n",
    "                    textcoords='offset points',  # точка смещения относительно координаты\n",
    "                    fontsize=12)\n",
    "\n",
    "    plt.title(title, fontsize=16)\n",
    "    plt.ylabel('Percentage', fontsize=14)\n",
    "    plt.xlabel(col_main, fontsize=14)\n",
    "    plt.show()"
   ]
  },
  {
   "cell_type": "code",
   "execution_count": 4,
   "id": "ab417257",
   "metadata": {},
   "outputs": [],
   "source": [
    "def change_id(df_t: pd.DataFrame, columns: list) -> None:\n",
    "    for col in columns:\n",
    "        df_t[col] = df_t[col].apply(lambda x: x.split('_')[1])"
   ]
  },
  {
   "cell_type": "code",
   "execution_count": 5,
   "id": "4a258d95",
   "metadata": {},
   "outputs": [],
   "source": [
    "config_path = \"../config/params.yaml\"\n",
    "config = yaml.load(open(config_path), Loader=yaml.FullLoader)\n",
    "\n",
    "preproc = config[\"preprocessing\"]"
   ]
  },
  {
   "cell_type": "markdown",
   "id": "19b39de1",
   "metadata": {},
   "source": [
    "# Описание задачи"
   ]
  },
  {
   "cell_type": "markdown",
   "id": "76ca04f3",
   "metadata": {},
   "source": [
    "Данные предоставлены оператором электронных торгов.  \n",
    "\n",
    "Задача состоит в разработке **рекомендательного сервиса** для поставщиков.  \n",
    "\n",
    "В данном случае рекомендательный сервис необходим для более активного участия поставщиков в торгах за счет того, что им предлагаются более подходящие для них заказы.  \n",
    "\n",
    "Для разработки рекомендательного алгоритма имеется информация о предыдущих заказах и участии поставщиков в них. Также известно, какой из поставщиков победил в торгах.  \n",
    "\n",
    "Поля в датасете purchases:  \n",
    " - purchase – Уникальный идентификатор закупки  \n",
    " - region_code – Регион поставки  \n",
    " - min_publish_date – Дата публикации закупки (дата, с которой закупку смогли видеть поставщики и присылать свои предложения)  \n",
    " - purchase_name – Название закупки  \n",
    " - forsmallbiz – Если да, то большие компании не могут предлагать свое участие в этой закупке  \n",
    " - price – Цена за закупку, предлагаемая заказчиком  \n",
    " - customer – Уникальный идентификатор заказчика  \n",
    " - okpd2_code – Код стандартизации товара в соответствии со справочником ОКПД2, обрезанный до 3 числа  \n",
    " - okpd2_names – Названия ОКПД2, в этом поле может быть записано несколько названий ОКПД2 через разделитель “ || “, так как поле okpd2_code это обобщенный код.\n",
    " - Item_descriptions – Описания товаров, записанные через разделитель “ || “.  \n",
    " \n",
    "Поля в датасете suppliers:  \n",
    " - purchase – Уникальный идентификатор закупки  \n",
    " - supplier – Уникальный идентификатор поставщика  \n",
    " - is_winner – Выиграл ли этот поставщик в этой закупке"
   ]
  },
  {
   "cell_type": "code",
   "execution_count": 6,
   "id": "57e4d8d3",
   "metadata": {},
   "outputs": [],
   "source": [
    "df_pur = pd.read_csv(\"../data/small_purchases.csv\", sep=\";\")\n",
    "df_sup = pd.read_csv(\"../data/small_suppliers.csv\", sep=\";\")"
   ]
  },
  {
   "cell_type": "code",
   "execution_count": 7,
   "id": "1f6a53e8",
   "metadata": {},
   "outputs": [
    {
     "data": {
      "text/html": [
       "<div>\n",
       "<style scoped>\n",
       "    .dataframe tbody tr th:only-of-type {\n",
       "        vertical-align: middle;\n",
       "    }\n",
       "\n",
       "    .dataframe tbody tr th {\n",
       "        vertical-align: top;\n",
       "    }\n",
       "\n",
       "    .dataframe thead th {\n",
       "        text-align: right;\n",
       "    }\n",
       "</style>\n",
       "<table border=\"1\" class=\"dataframe\">\n",
       "  <thead>\n",
       "    <tr style=\"text-align: right;\">\n",
       "      <th></th>\n",
       "      <th>purchase</th>\n",
       "      <th>region_code</th>\n",
       "      <th>min_publish_date</th>\n",
       "      <th>purchase_name</th>\n",
       "      <th>forsmallbiz</th>\n",
       "      <th>price</th>\n",
       "      <th>customer</th>\n",
       "      <th>okpd2_code</th>\n",
       "      <th>okpd2_names</th>\n",
       "      <th>item_descriptions</th>\n",
       "    </tr>\n",
       "  </thead>\n",
       "  <tbody>\n",
       "    <tr>\n",
       "      <th>0</th>\n",
       "      <td>Закупка_1</td>\n",
       "      <td>2</td>\n",
       "      <td>2021-11-24</td>\n",
       "      <td>Услуги по проведению финансового аудита</td>\n",
       "      <td>f</td>\n",
       "      <td>190000.00</td>\n",
       "      <td>Заказчик_1</td>\n",
       "      <td>69.2</td>\n",
       "      <td>Услуги по проведению финансового аудита</td>\n",
       "      <td>Услуги по проведению финансового аудита</td>\n",
       "    </tr>\n",
       "    <tr>\n",
       "      <th>1</th>\n",
       "      <td>Закупка_2</td>\n",
       "      <td>2</td>\n",
       "      <td>2022-11-18</td>\n",
       "      <td>Услуги по проведению финансового аудита</td>\n",
       "      <td>f</td>\n",
       "      <td>271000.00</td>\n",
       "      <td>Заказчик_1</td>\n",
       "      <td>69.2</td>\n",
       "      <td>Услуги по проведению финансового аудита</td>\n",
       "      <td>Услуги по проведению финансового аудита</td>\n",
       "    </tr>\n",
       "    <tr>\n",
       "      <th>2</th>\n",
       "      <td>Закупка_3</td>\n",
       "      <td>2</td>\n",
       "      <td>2021-02-02</td>\n",
       "      <td>оказание информационных услуг с использованием...</td>\n",
       "      <td>t</td>\n",
       "      <td>290000.00</td>\n",
       "      <td>Заказчик_2</td>\n",
       "      <td>58.2</td>\n",
       "      <td>Услуги по предоставлению лицензий на право исп...</td>\n",
       "      <td>оказание информационных услуг с использованием...</td>\n",
       "    </tr>\n",
       "    <tr>\n",
       "      <th>3</th>\n",
       "      <td>Закупка_4</td>\n",
       "      <td>2</td>\n",
       "      <td>2021-02-02</td>\n",
       "      <td>Услуги по дизайнерскому оформлению, изготовлен...</td>\n",
       "      <td>t</td>\n",
       "      <td>190809.00</td>\n",
       "      <td>Заказчик_2</td>\n",
       "      <td>18.1</td>\n",
       "      <td>Услуги печатные прочие, не включенные в другие...</td>\n",
       "      <td>оказание услуг по дизайнерскому оформлению, из...</td>\n",
       "    </tr>\n",
       "    <tr>\n",
       "      <th>4</th>\n",
       "      <td>Закупка_5</td>\n",
       "      <td>2</td>\n",
       "      <td>2021-02-11</td>\n",
       "      <td>поставка сувенирной продукции для проведения м...</td>\n",
       "      <td>t</td>\n",
       "      <td>278263.34</td>\n",
       "      <td>Заказчик_2</td>\n",
       "      <td>26.2</td>\n",
       "      <td>Клавиатуры || Комплектующие и запасные части д...</td>\n",
       "      <td>Комплект беспроводной клавиатуры и беспроводно...</td>\n",
       "    </tr>\n",
       "  </tbody>\n",
       "</table>\n",
       "</div>"
      ],
      "text/plain": [
       "    purchase  region_code min_publish_date  \\\n",
       "0  Закупка_1            2       2021-11-24   \n",
       "1  Закупка_2            2       2022-11-18   \n",
       "2  Закупка_3            2       2021-02-02   \n",
       "3  Закупка_4            2       2021-02-02   \n",
       "4  Закупка_5            2       2021-02-11   \n",
       "\n",
       "                                       purchase_name forsmallbiz      price  \\\n",
       "0            Услуги по проведению финансового аудита           f  190000.00   \n",
       "1            Услуги по проведению финансового аудита           f  271000.00   \n",
       "2  оказание информационных услуг с использованием...           t  290000.00   \n",
       "3  Услуги по дизайнерскому оформлению, изготовлен...           t  190809.00   \n",
       "4  поставка сувенирной продукции для проведения м...           t  278263.34   \n",
       "\n",
       "     customer okpd2_code                                        okpd2_names  \\\n",
       "0  Заказчик_1       69.2            Услуги по проведению финансового аудита   \n",
       "1  Заказчик_1       69.2            Услуги по проведению финансового аудита   \n",
       "2  Заказчик_2       58.2  Услуги по предоставлению лицензий на право исп...   \n",
       "3  Заказчик_2       18.1  Услуги печатные прочие, не включенные в другие...   \n",
       "4  Заказчик_2       26.2  Клавиатуры || Комплектующие и запасные части д...   \n",
       "\n",
       "                                   item_descriptions  \n",
       "0            Услуги по проведению финансового аудита  \n",
       "1            Услуги по проведению финансового аудита  \n",
       "2  оказание информационных услуг с использованием...  \n",
       "3  оказание услуг по дизайнерскому оформлению, из...  \n",
       "4  Комплект беспроводной клавиатуры и беспроводно...  "
      ]
     },
     "execution_count": 7,
     "metadata": {},
     "output_type": "execute_result"
    }
   ],
   "source": [
    "df_pur[:5]"
   ]
  },
  {
   "cell_type": "code",
   "execution_count": 8,
   "id": "f8cb8a09",
   "metadata": {},
   "outputs": [
    {
     "data": {
      "text/html": [
       "<div>\n",
       "<style scoped>\n",
       "    .dataframe tbody tr th:only-of-type {\n",
       "        vertical-align: middle;\n",
       "    }\n",
       "\n",
       "    .dataframe tbody tr th {\n",
       "        vertical-align: top;\n",
       "    }\n",
       "\n",
       "    .dataframe thead th {\n",
       "        text-align: right;\n",
       "    }\n",
       "</style>\n",
       "<table border=\"1\" class=\"dataframe\">\n",
       "  <thead>\n",
       "    <tr style=\"text-align: right;\">\n",
       "      <th></th>\n",
       "      <th>purchase</th>\n",
       "      <th>supplier</th>\n",
       "      <th>is_winner</th>\n",
       "    </tr>\n",
       "  </thead>\n",
       "  <tbody>\n",
       "    <tr>\n",
       "      <th>0</th>\n",
       "      <td>Закупка_3</td>\n",
       "      <td>Поставщик_1</td>\n",
       "      <td>1</td>\n",
       "    </tr>\n",
       "    <tr>\n",
       "      <th>1</th>\n",
       "      <td>Закупка_14</td>\n",
       "      <td>Поставщик_2</td>\n",
       "      <td>1</td>\n",
       "    </tr>\n",
       "    <tr>\n",
       "      <th>2</th>\n",
       "      <td>Закупка_14</td>\n",
       "      <td>Поставщик_3</td>\n",
       "      <td>0</td>\n",
       "    </tr>\n",
       "    <tr>\n",
       "      <th>3</th>\n",
       "      <td>Закупка_5</td>\n",
       "      <td>Поставщик_4</td>\n",
       "      <td>0</td>\n",
       "    </tr>\n",
       "    <tr>\n",
       "      <th>4</th>\n",
       "      <td>Закупка_5</td>\n",
       "      <td>Поставщик_2</td>\n",
       "      <td>0</td>\n",
       "    </tr>\n",
       "  </tbody>\n",
       "</table>\n",
       "</div>"
      ],
      "text/plain": [
       "     purchase     supplier  is_winner\n",
       "0   Закупка_3  Поставщик_1          1\n",
       "1  Закупка_14  Поставщик_2          1\n",
       "2  Закупка_14  Поставщик_3          0\n",
       "3   Закупка_5  Поставщик_4          0\n",
       "4   Закупка_5  Поставщик_2          0"
      ]
     },
     "execution_count": 8,
     "metadata": {},
     "output_type": "execute_result"
    }
   ],
   "source": [
    "df_sup[:5]"
   ]
  },
  {
   "cell_type": "code",
   "execution_count": 9,
   "id": "50a52aef",
   "metadata": {
    "scrolled": false
   },
   "outputs": [
    {
     "data": {
      "text/html": [
       "<div>\n",
       "<style scoped>\n",
       "    .dataframe tbody tr th:only-of-type {\n",
       "        vertical-align: middle;\n",
       "    }\n",
       "\n",
       "    .dataframe tbody tr th {\n",
       "        vertical-align: top;\n",
       "    }\n",
       "\n",
       "    .dataframe thead th {\n",
       "        text-align: right;\n",
       "    }\n",
       "</style>\n",
       "<table border=\"1\" class=\"dataframe\">\n",
       "  <thead>\n",
       "    <tr style=\"text-align: right;\">\n",
       "      <th></th>\n",
       "      <th>purchase</th>\n",
       "      <th>region_code</th>\n",
       "      <th>min_publish_date</th>\n",
       "      <th>purchase_name</th>\n",
       "      <th>forsmallbiz</th>\n",
       "      <th>price</th>\n",
       "      <th>customer</th>\n",
       "      <th>okpd2_code</th>\n",
       "      <th>okpd2_names</th>\n",
       "      <th>item_descriptions</th>\n",
       "      <th>supplier</th>\n",
       "      <th>is_winner</th>\n",
       "    </tr>\n",
       "  </thead>\n",
       "  <tbody>\n",
       "    <tr>\n",
       "      <th>0</th>\n",
       "      <td>Закупка_1</td>\n",
       "      <td>2</td>\n",
       "      <td>2021-11-24</td>\n",
       "      <td>Услуги по проведению финансового аудита</td>\n",
       "      <td>f</td>\n",
       "      <td>190000.0</td>\n",
       "      <td>Заказчик_1</td>\n",
       "      <td>69.2</td>\n",
       "      <td>Услуги по проведению финансового аудита</td>\n",
       "      <td>Услуги по проведению финансового аудита</td>\n",
       "      <td>Поставщик_104753</td>\n",
       "      <td>1</td>\n",
       "    </tr>\n",
       "    <tr>\n",
       "      <th>1</th>\n",
       "      <td>Закупка_1</td>\n",
       "      <td>2</td>\n",
       "      <td>2021-11-24</td>\n",
       "      <td>Услуги по проведению финансового аудита</td>\n",
       "      <td>f</td>\n",
       "      <td>190000.0</td>\n",
       "      <td>Заказчик_1</td>\n",
       "      <td>69.2</td>\n",
       "      <td>Услуги по проведению финансового аудита</td>\n",
       "      <td>Услуги по проведению финансового аудита</td>\n",
       "      <td>Поставщик_104929</td>\n",
       "      <td>0</td>\n",
       "    </tr>\n",
       "    <tr>\n",
       "      <th>2</th>\n",
       "      <td>Закупка_1</td>\n",
       "      <td>2</td>\n",
       "      <td>2021-11-24</td>\n",
       "      <td>Услуги по проведению финансового аудита</td>\n",
       "      <td>f</td>\n",
       "      <td>190000.0</td>\n",
       "      <td>Заказчик_1</td>\n",
       "      <td>69.2</td>\n",
       "      <td>Услуги по проведению финансового аудита</td>\n",
       "      <td>Услуги по проведению финансового аудита</td>\n",
       "      <td>Поставщик_37544</td>\n",
       "      <td>0</td>\n",
       "    </tr>\n",
       "    <tr>\n",
       "      <th>3</th>\n",
       "      <td>Закупка_2</td>\n",
       "      <td>2</td>\n",
       "      <td>2022-11-18</td>\n",
       "      <td>Услуги по проведению финансового аудита</td>\n",
       "      <td>f</td>\n",
       "      <td>271000.0</td>\n",
       "      <td>Заказчик_1</td>\n",
       "      <td>69.2</td>\n",
       "      <td>Услуги по проведению финансового аудита</td>\n",
       "      <td>Услуги по проведению финансового аудита</td>\n",
       "      <td>Поставщик_104753</td>\n",
       "      <td>1</td>\n",
       "    </tr>\n",
       "    <tr>\n",
       "      <th>4</th>\n",
       "      <td>Закупка_2</td>\n",
       "      <td>2</td>\n",
       "      <td>2022-11-18</td>\n",
       "      <td>Услуги по проведению финансового аудита</td>\n",
       "      <td>f</td>\n",
       "      <td>271000.0</td>\n",
       "      <td>Заказчик_1</td>\n",
       "      <td>69.2</td>\n",
       "      <td>Услуги по проведению финансового аудита</td>\n",
       "      <td>Услуги по проведению финансового аудита</td>\n",
       "      <td>Поставщик_11259</td>\n",
       "      <td>0</td>\n",
       "    </tr>\n",
       "  </tbody>\n",
       "</table>\n",
       "</div>"
      ],
      "text/plain": [
       "    purchase  region_code min_publish_date  \\\n",
       "0  Закупка_1            2       2021-11-24   \n",
       "1  Закупка_1            2       2021-11-24   \n",
       "2  Закупка_1            2       2021-11-24   \n",
       "3  Закупка_2            2       2022-11-18   \n",
       "4  Закупка_2            2       2022-11-18   \n",
       "\n",
       "                             purchase_name forsmallbiz     price    customer  \\\n",
       "0  Услуги по проведению финансового аудита           f  190000.0  Заказчик_1   \n",
       "1  Услуги по проведению финансового аудита           f  190000.0  Заказчик_1   \n",
       "2  Услуги по проведению финансового аудита           f  190000.0  Заказчик_1   \n",
       "3  Услуги по проведению финансового аудита           f  271000.0  Заказчик_1   \n",
       "4  Услуги по проведению финансового аудита           f  271000.0  Заказчик_1   \n",
       "\n",
       "  okpd2_code                              okpd2_names  \\\n",
       "0       69.2  Услуги по проведению финансового аудита   \n",
       "1       69.2  Услуги по проведению финансового аудита   \n",
       "2       69.2  Услуги по проведению финансового аудита   \n",
       "3       69.2  Услуги по проведению финансового аудита   \n",
       "4       69.2  Услуги по проведению финансового аудита   \n",
       "\n",
       "                         item_descriptions          supplier  is_winner  \n",
       "0  Услуги по проведению финансового аудита  Поставщик_104753          1  \n",
       "1  Услуги по проведению финансового аудита  Поставщик_104929          0  \n",
       "2  Услуги по проведению финансового аудита   Поставщик_37544          0  \n",
       "3  Услуги по проведению финансового аудита  Поставщик_104753          1  \n",
       "4  Услуги по проведению финансового аудита   Поставщик_11259          0  "
      ]
     },
     "execution_count": 9,
     "metadata": {},
     "output_type": "execute_result"
    }
   ],
   "source": [
    "df = pd.merge(df_pur, df_sup, on='purchase')\n",
    "df[:5]"
   ]
  },
  {
   "cell_type": "code",
   "execution_count": 10,
   "id": "e7625f6d",
   "metadata": {},
   "outputs": [],
   "source": [
    "change_id(df, [\"purchase\", \"customer\", \"supplier\"])\n",
    "df['forsmallbiz'].replace({'t': 1, 'f': 0}, inplace=True)"
   ]
  },
  {
   "cell_type": "code",
   "execution_count": 11,
   "id": "5b8ebeaa",
   "metadata": {},
   "outputs": [
    {
     "name": "stdout",
     "output_type": "stream",
     "text": [
      "<class 'pandas.core.frame.DataFrame'>\n",
      "Int64Index: 958129 entries, 0 to 958128\n",
      "Data columns (total 12 columns):\n",
      " #   Column             Non-Null Count   Dtype  \n",
      "---  ------             --------------   -----  \n",
      " 0   purchase           958129 non-null  object \n",
      " 1   region_code        958129 non-null  int64  \n",
      " 2   min_publish_date   958129 non-null  object \n",
      " 3   purchase_name      958044 non-null  object \n",
      " 4   forsmallbiz        958129 non-null  int64  \n",
      " 5   price              958129 non-null  float64\n",
      " 6   customer           958129 non-null  object \n",
      " 7   okpd2_code         958129 non-null  object \n",
      " 8   okpd2_names        958129 non-null  object \n",
      " 9   item_descriptions  957564 non-null  object \n",
      " 10  supplier           958129 non-null  object \n",
      " 11  is_winner          958129 non-null  int64  \n",
      "dtypes: float64(1), int64(3), object(8)\n",
      "memory usage: 95.0+ MB\n"
     ]
    }
   ],
   "source": [
    "df.info()"
   ]
  },
  {
   "cell_type": "code",
   "execution_count": 12,
   "id": "33eb7dcc",
   "metadata": {},
   "outputs": [
    {
     "data": {
      "text/plain": [
       "(958129, 12)"
      ]
     },
     "execution_count": 12,
     "metadata": {},
     "output_type": "execute_result"
    }
   ],
   "source": [
    "df.shape"
   ]
  },
  {
   "cell_type": "code",
   "execution_count": 13,
   "id": "61adca0c",
   "metadata": {},
   "outputs": [],
   "source": [
    "df = df.astype(preproc['change_type_columns'])"
   ]
  },
  {
   "cell_type": "code",
   "execution_count": 14,
   "id": "458b717d",
   "metadata": {
    "scrolled": true
   },
   "outputs": [
    {
     "data": {
      "text/html": [
       "<div>\n",
       "<style scoped>\n",
       "    .dataframe tbody tr th:only-of-type {\n",
       "        vertical-align: middle;\n",
       "    }\n",
       "\n",
       "    .dataframe tbody tr th {\n",
       "        vertical-align: top;\n",
       "    }\n",
       "\n",
       "    .dataframe thead th {\n",
       "        text-align: right;\n",
       "    }\n",
       "</style>\n",
       "<table border=\"1\" class=\"dataframe\">\n",
       "  <thead>\n",
       "    <tr style=\"text-align: right;\">\n",
       "      <th></th>\n",
       "      <th>forsmallbiz</th>\n",
       "      <th>price</th>\n",
       "      <th>is_winner</th>\n",
       "    </tr>\n",
       "  </thead>\n",
       "  <tbody>\n",
       "    <tr>\n",
       "      <th>mean</th>\n",
       "      <td>0.709252</td>\n",
       "      <td>5.400899e+06</td>\n",
       "      <td>0.346879</td>\n",
       "    </tr>\n",
       "    <tr>\n",
       "      <th>std</th>\n",
       "      <td>0.454108</td>\n",
       "      <td>1.448377e+08</td>\n",
       "      <td>0.475977</td>\n",
       "    </tr>\n",
       "    <tr>\n",
       "      <th>min</th>\n",
       "      <td>0.000000</td>\n",
       "      <td>1.700000e-01</td>\n",
       "      <td>0.000000</td>\n",
       "    </tr>\n",
       "    <tr>\n",
       "      <th>25%</th>\n",
       "      <td>0.000000</td>\n",
       "      <td>1.661750e+05</td>\n",
       "      <td>0.000000</td>\n",
       "    </tr>\n",
       "    <tr>\n",
       "      <th>50%</th>\n",
       "      <td>1.000000</td>\n",
       "      <td>5.992800e+05</td>\n",
       "      <td>0.000000</td>\n",
       "    </tr>\n",
       "    <tr>\n",
       "      <th>75%</th>\n",
       "      <td>1.000000</td>\n",
       "      <td>2.038950e+06</td>\n",
       "      <td>1.000000</td>\n",
       "    </tr>\n",
       "    <tr>\n",
       "      <th>max</th>\n",
       "      <td>1.000000</td>\n",
       "      <td>5.703527e+10</td>\n",
       "      <td>1.000000</td>\n",
       "    </tr>\n",
       "  </tbody>\n",
       "</table>\n",
       "</div>"
      ],
      "text/plain": [
       "      forsmallbiz         price  is_winner\n",
       "mean     0.709252  5.400899e+06   0.346879\n",
       "std      0.454108  1.448377e+08   0.475977\n",
       "min      0.000000  1.700000e-01   0.000000\n",
       "25%      0.000000  1.661750e+05   0.000000\n",
       "50%      1.000000  5.992800e+05   0.000000\n",
       "75%      1.000000  2.038950e+06   1.000000\n",
       "max      1.000000  5.703527e+10   1.000000"
      ]
     },
     "execution_count": 14,
     "metadata": {},
     "output_type": "execute_result"
    }
   ],
   "source": [
    "df.describe().iloc[1:, :]"
   ]
  },
  {
   "cell_type": "code",
   "execution_count": 15,
   "id": "675f81bc",
   "metadata": {
    "scrolled": true
   },
   "outputs": [
    {
     "data": {
      "text/html": [
       "<div>\n",
       "<style scoped>\n",
       "    .dataframe tbody tr th:only-of-type {\n",
       "        vertical-align: middle;\n",
       "    }\n",
       "\n",
       "    .dataframe tbody tr th {\n",
       "        vertical-align: top;\n",
       "    }\n",
       "\n",
       "    .dataframe thead th {\n",
       "        text-align: right;\n",
       "    }\n",
       "</style>\n",
       "<table border=\"1\" class=\"dataframe\">\n",
       "  <thead>\n",
       "    <tr style=\"text-align: right;\">\n",
       "      <th></th>\n",
       "      <th>purchase_name</th>\n",
       "      <th>item_descriptions</th>\n",
       "    </tr>\n",
       "  </thead>\n",
       "  <tbody>\n",
       "    <tr>\n",
       "      <th>count</th>\n",
       "      <td>958044</td>\n",
       "      <td>957564</td>\n",
       "    </tr>\n",
       "    <tr>\n",
       "      <th>unique</th>\n",
       "      <td>236046</td>\n",
       "      <td>138985</td>\n",
       "    </tr>\n",
       "    <tr>\n",
       "      <th>top</th>\n",
       "      <td>Поставка канцелярских товаров</td>\n",
       "      <td>Бумага для офисной техники белая</td>\n",
       "    </tr>\n",
       "    <tr>\n",
       "      <th>freq</th>\n",
       "      <td>5239</td>\n",
       "      <td>10213</td>\n",
       "    </tr>\n",
       "  </tbody>\n",
       "</table>\n",
       "</div>"
      ],
      "text/plain": [
       "                        purchase_name                 item_descriptions\n",
       "count                          958044                            957564\n",
       "unique                         236046                            138985\n",
       "top     Поставка канцелярских товаров  Бумага для офисной техники белая\n",
       "freq                             5239                             10213"
      ]
     },
     "execution_count": 15,
     "metadata": {},
     "output_type": "execute_result"
    }
   ],
   "source": [
    "df.describe(include=object)"
   ]
  },
  {
   "cell_type": "code",
   "execution_count": 16,
   "id": "cae288db",
   "metadata": {
    "scrolled": true
   },
   "outputs": [
    {
     "data": {
      "text/html": [
       "<div>\n",
       "<style scoped>\n",
       "    .dataframe tbody tr th:only-of-type {\n",
       "        vertical-align: middle;\n",
       "    }\n",
       "\n",
       "    .dataframe tbody tr th {\n",
       "        vertical-align: top;\n",
       "    }\n",
       "\n",
       "    .dataframe thead th {\n",
       "        text-align: right;\n",
       "    }\n",
       "</style>\n",
       "<table border=\"1\" class=\"dataframe\">\n",
       "  <thead>\n",
       "    <tr style=\"text-align: right;\">\n",
       "      <th></th>\n",
       "      <th>purchase</th>\n",
       "      <th>region_code</th>\n",
       "      <th>customer</th>\n",
       "      <th>okpd2_code</th>\n",
       "      <th>okpd2_names</th>\n",
       "      <th>supplier</th>\n",
       "    </tr>\n",
       "  </thead>\n",
       "  <tbody>\n",
       "    <tr>\n",
       "      <th>count</th>\n",
       "      <td>958129</td>\n",
       "      <td>958129</td>\n",
       "      <td>958129</td>\n",
       "      <td>958129</td>\n",
       "      <td>958129</td>\n",
       "      <td>958129</td>\n",
       "    </tr>\n",
       "    <tr>\n",
       "      <th>unique</th>\n",
       "      <td>328257</td>\n",
       "      <td>86</td>\n",
       "      <td>11680</td>\n",
       "      <td>244</td>\n",
       "      <td>21493</td>\n",
       "      <td>100732</td>\n",
       "    </tr>\n",
       "    <tr>\n",
       "      <th>top</th>\n",
       "      <td>424615</td>\n",
       "      <td>77</td>\n",
       "      <td>9582</td>\n",
       "      <td>drug</td>\n",
       "      <td>Лекарства</td>\n",
       "      <td>694</td>\n",
       "    </tr>\n",
       "    <tr>\n",
       "      <th>freq</th>\n",
       "      <td>80</td>\n",
       "      <td>309840</td>\n",
       "      <td>17809</td>\n",
       "      <td>99192</td>\n",
       "      <td>99192</td>\n",
       "      <td>4217</td>\n",
       "    </tr>\n",
       "  </tbody>\n",
       "</table>\n",
       "</div>"
      ],
      "text/plain": [
       "       purchase  region_code customer okpd2_code okpd2_names supplier\n",
       "count    958129       958129   958129     958129      958129   958129\n",
       "unique   328257           86    11680        244       21493   100732\n",
       "top      424615           77     9582       drug   Лекарства      694\n",
       "freq         80       309840    17809      99192       99192     4217"
      ]
     },
     "execution_count": 16,
     "metadata": {},
     "output_type": "execute_result"
    }
   ],
   "source": [
    "df.describe(include='category')"
   ]
  },
  {
   "cell_type": "code",
   "execution_count": 17,
   "id": "151b576d",
   "metadata": {
    "scrolled": true
   },
   "outputs": [
    {
     "data": {
      "text/plain": [
       "purchase             0.000000\n",
       "region_code          0.000000\n",
       "min_publish_date     0.000000\n",
       "purchase_name        0.008871\n",
       "forsmallbiz          0.000000\n",
       "price                0.000000\n",
       "customer             0.000000\n",
       "okpd2_code           0.000000\n",
       "okpd2_names          0.000000\n",
       "item_descriptions    0.058969\n",
       "supplier             0.000000\n",
       "is_winner            0.000000\n",
       "dtype: float64"
      ]
     },
     "execution_count": 17,
     "metadata": {},
     "output_type": "execute_result"
    }
   ],
   "source": [
    "df.isna().sum()/df.shape[0] * 100"
   ]
  },
  {
   "cell_type": "code",
   "execution_count": 18,
   "id": "ea6c7730",
   "metadata": {
    "scrolled": true
   },
   "outputs": [
    {
     "data": {
      "text/html": [
       "<div>\n",
       "<style scoped>\n",
       "    .dataframe tbody tr th:only-of-type {\n",
       "        vertical-align: middle;\n",
       "    }\n",
       "\n",
       "    .dataframe tbody tr th {\n",
       "        vertical-align: top;\n",
       "    }\n",
       "\n",
       "    .dataframe thead th {\n",
       "        text-align: right;\n",
       "    }\n",
       "</style>\n",
       "<table border=\"1\" class=\"dataframe\">\n",
       "  <thead>\n",
       "    <tr style=\"text-align: right;\">\n",
       "      <th></th>\n",
       "      <th>purchase</th>\n",
       "      <th>region_code</th>\n",
       "      <th>purchase_name</th>\n",
       "      <th>customer</th>\n",
       "      <th>okpd2_code</th>\n",
       "      <th>okpd2_names</th>\n",
       "      <th>item_descriptions</th>\n",
       "      <th>supplier</th>\n",
       "    </tr>\n",
       "  </thead>\n",
       "  <tbody>\n",
       "    <tr>\n",
       "      <th>count</th>\n",
       "      <td>565</td>\n",
       "      <td>565</td>\n",
       "      <td>565</td>\n",
       "      <td>565</td>\n",
       "      <td>565</td>\n",
       "      <td>565</td>\n",
       "      <td>0</td>\n",
       "      <td>565</td>\n",
       "    </tr>\n",
       "    <tr>\n",
       "      <th>unique</th>\n",
       "      <td>226</td>\n",
       "      <td>17</td>\n",
       "      <td>203</td>\n",
       "      <td>54</td>\n",
       "      <td>1</td>\n",
       "      <td>1</td>\n",
       "      <td>0</td>\n",
       "      <td>200</td>\n",
       "    </tr>\n",
       "    <tr>\n",
       "      <th>top</th>\n",
       "      <td>531605</td>\n",
       "      <td>33</td>\n",
       "      <td>Поставка лекарственного препарата для медицинс...</td>\n",
       "      <td>7549</td>\n",
       "      <td>drug</td>\n",
       "      <td>Лекарства</td>\n",
       "      <td>NaN</td>\n",
       "      <td>694</td>\n",
       "    </tr>\n",
       "    <tr>\n",
       "      <th>freq</th>\n",
       "      <td>13</td>\n",
       "      <td>111</td>\n",
       "      <td>13</td>\n",
       "      <td>85</td>\n",
       "      <td>565</td>\n",
       "      <td>565</td>\n",
       "      <td>NaN</td>\n",
       "      <td>30</td>\n",
       "    </tr>\n",
       "  </tbody>\n",
       "</table>\n",
       "</div>"
      ],
      "text/plain": [
       "       purchase  region_code  \\\n",
       "count       565          565   \n",
       "unique      226           17   \n",
       "top      531605           33   \n",
       "freq         13          111   \n",
       "\n",
       "                                            purchase_name customer okpd2_code  \\\n",
       "count                                                 565      565        565   \n",
       "unique                                                203       54          1   \n",
       "top     Поставка лекарственного препарата для медицинс...     7549       drug   \n",
       "freq                                                   13       85        565   \n",
       "\n",
       "       okpd2_names item_descriptions supplier  \n",
       "count          565                 0      565  \n",
       "unique           1                 0      200  \n",
       "top      Лекарства               NaN      694  \n",
       "freq           565               NaN       30  "
      ]
     },
     "execution_count": 18,
     "metadata": {},
     "output_type": "execute_result"
    }
   ],
   "source": [
    "df[df['item_descriptions'].isna()].describe(include=['category', object])"
   ]
  },
  {
   "cell_type": "code",
   "execution_count": 19,
   "id": "b1e7c26b",
   "metadata": {},
   "outputs": [],
   "source": [
    "#заполним пропуски в поле item_descriptions значениями из колонки purchase_name\n",
    "df['item_descriptions'].fillna(df['purchase_name'], inplace=True)"
   ]
  },
  {
   "cell_type": "code",
   "execution_count": 20,
   "id": "6eff0f47",
   "metadata": {
    "scrolled": false
   },
   "outputs": [
    {
     "data": {
      "text/html": [
       "<div>\n",
       "<style scoped>\n",
       "    .dataframe tbody tr th:only-of-type {\n",
       "        vertical-align: middle;\n",
       "    }\n",
       "\n",
       "    .dataframe tbody tr th {\n",
       "        vertical-align: top;\n",
       "    }\n",
       "\n",
       "    .dataframe thead th {\n",
       "        text-align: right;\n",
       "    }\n",
       "</style>\n",
       "<table border=\"1\" class=\"dataframe\">\n",
       "  <thead>\n",
       "    <tr style=\"text-align: right;\">\n",
       "      <th></th>\n",
       "      <th>purchase</th>\n",
       "      <th>region_code</th>\n",
       "      <th>purchase_name</th>\n",
       "      <th>customer</th>\n",
       "      <th>okpd2_code</th>\n",
       "      <th>okpd2_names</th>\n",
       "      <th>item_descriptions</th>\n",
       "      <th>supplier</th>\n",
       "    </tr>\n",
       "  </thead>\n",
       "  <tbody>\n",
       "    <tr>\n",
       "      <th>count</th>\n",
       "      <td>85</td>\n",
       "      <td>85</td>\n",
       "      <td>0</td>\n",
       "      <td>85</td>\n",
       "      <td>85</td>\n",
       "      <td>85</td>\n",
       "      <td>85</td>\n",
       "      <td>85</td>\n",
       "    </tr>\n",
       "    <tr>\n",
       "      <th>unique</th>\n",
       "      <td>42</td>\n",
       "      <td>9</td>\n",
       "      <td>0</td>\n",
       "      <td>15</td>\n",
       "      <td>14</td>\n",
       "      <td>31</td>\n",
       "      <td>31</td>\n",
       "      <td>43</td>\n",
       "    </tr>\n",
       "    <tr>\n",
       "      <th>top</th>\n",
       "      <td>482224</td>\n",
       "      <td>5</td>\n",
       "      <td>NaN</td>\n",
       "      <td>390</td>\n",
       "      <td>31.0</td>\n",
       "      <td>Бензин автомобильный АИ-92 экологического клас...</td>\n",
       "      <td>Шкаф деревянный для документов</td>\n",
       "      <td>2424</td>\n",
       "    </tr>\n",
       "    <tr>\n",
       "      <th>freq</th>\n",
       "      <td>3</td>\n",
       "      <td>44</td>\n",
       "      <td>NaN</td>\n",
       "      <td>20</td>\n",
       "      <td>34</td>\n",
       "      <td>6</td>\n",
       "      <td>6</td>\n",
       "      <td>10</td>\n",
       "    </tr>\n",
       "  </tbody>\n",
       "</table>\n",
       "</div>"
      ],
      "text/plain": [
       "       purchase  region_code purchase_name customer okpd2_code  \\\n",
       "count        85           85             0       85         85   \n",
       "unique       42            9             0       15         14   \n",
       "top      482224            5           NaN      390       31.0   \n",
       "freq          3           44           NaN       20         34   \n",
       "\n",
       "                                              okpd2_names  \\\n",
       "count                                                  85   \n",
       "unique                                                 31   \n",
       "top     Бензин автомобильный АИ-92 экологического клас...   \n",
       "freq                                                    6   \n",
       "\n",
       "                     item_descriptions supplier  \n",
       "count                               85       85  \n",
       "unique                              31       43  \n",
       "top     Шкаф деревянный для документов     2424  \n",
       "freq                                 6       10  "
      ]
     },
     "execution_count": 20,
     "metadata": {},
     "output_type": "execute_result"
    }
   ],
   "source": [
    "df[df['purchase_name'].isna()].describe(include=['category', object])"
   ]
  },
  {
   "cell_type": "code",
   "execution_count": 21,
   "id": "9404da91",
   "metadata": {},
   "outputs": [],
   "source": [
    "#заполним пропуски в поле purchase_name значениями из колонки okpd2_names\n",
    "df['purchase_name'].fillna(df['okpd2_names'], inplace=True)"
   ]
  },
  {
   "cell_type": "code",
   "execution_count": 22,
   "id": "acde4992",
   "metadata": {},
   "outputs": [
    {
     "data": {
      "text/plain": [
       "purchase             0\n",
       "region_code          0\n",
       "min_publish_date     0\n",
       "purchase_name        0\n",
       "forsmallbiz          0\n",
       "price                0\n",
       "customer             0\n",
       "okpd2_code           0\n",
       "okpd2_names          0\n",
       "item_descriptions    0\n",
       "supplier             0\n",
       "is_winner            0\n",
       "dtype: int64"
      ]
     },
     "execution_count": 22,
     "metadata": {},
     "output_type": "execute_result"
    }
   ],
   "source": [
    "df.isna().sum()"
   ]
  },
  {
   "cell_type": "code",
   "execution_count": 23,
   "id": "bd57a8e1",
   "metadata": {},
   "outputs": [
    {
     "data": {
      "text/html": [
       "<div>\n",
       "<style scoped>\n",
       "    .dataframe tbody tr th:only-of-type {\n",
       "        vertical-align: middle;\n",
       "    }\n",
       "\n",
       "    .dataframe tbody tr th {\n",
       "        vertical-align: top;\n",
       "    }\n",
       "\n",
       "    .dataframe thead th {\n",
       "        text-align: right;\n",
       "    }\n",
       "</style>\n",
       "<table border=\"1\" class=\"dataframe\">\n",
       "  <thead>\n",
       "    <tr style=\"text-align: right;\">\n",
       "      <th></th>\n",
       "      <th>purchase</th>\n",
       "      <th>region_code</th>\n",
       "      <th>min_publish_date</th>\n",
       "      <th>purchase_name</th>\n",
       "      <th>forsmallbiz</th>\n",
       "      <th>price</th>\n",
       "      <th>customer</th>\n",
       "      <th>okpd2_code</th>\n",
       "      <th>okpd2_names</th>\n",
       "      <th>item_descriptions</th>\n",
       "      <th>supplier</th>\n",
       "      <th>is_winner</th>\n",
       "    </tr>\n",
       "  </thead>\n",
       "  <tbody>\n",
       "    <tr>\n",
       "      <th>0</th>\n",
       "      <td>1</td>\n",
       "      <td>2</td>\n",
       "      <td>2021-11-24</td>\n",
       "      <td>Услуги по проведению финансового аудита</td>\n",
       "      <td>0</td>\n",
       "      <td>190000.0</td>\n",
       "      <td>1</td>\n",
       "      <td>69.2</td>\n",
       "      <td>Услуги по проведению финансового аудита</td>\n",
       "      <td>Услуги по проведению финансового аудита</td>\n",
       "      <td>104753</td>\n",
       "      <td>1</td>\n",
       "    </tr>\n",
       "    <tr>\n",
       "      <th>1</th>\n",
       "      <td>1</td>\n",
       "      <td>2</td>\n",
       "      <td>2021-11-24</td>\n",
       "      <td>Услуги по проведению финансового аудита</td>\n",
       "      <td>0</td>\n",
       "      <td>190000.0</td>\n",
       "      <td>1</td>\n",
       "      <td>69.2</td>\n",
       "      <td>Услуги по проведению финансового аудита</td>\n",
       "      <td>Услуги по проведению финансового аудита</td>\n",
       "      <td>104929</td>\n",
       "      <td>0</td>\n",
       "    </tr>\n",
       "    <tr>\n",
       "      <th>2</th>\n",
       "      <td>1</td>\n",
       "      <td>2</td>\n",
       "      <td>2021-11-24</td>\n",
       "      <td>Услуги по проведению финансового аудита</td>\n",
       "      <td>0</td>\n",
       "      <td>190000.0</td>\n",
       "      <td>1</td>\n",
       "      <td>69.2</td>\n",
       "      <td>Услуги по проведению финансового аудита</td>\n",
       "      <td>Услуги по проведению финансового аудита</td>\n",
       "      <td>37544</td>\n",
       "      <td>0</td>\n",
       "    </tr>\n",
       "    <tr>\n",
       "      <th>3</th>\n",
       "      <td>2</td>\n",
       "      <td>2</td>\n",
       "      <td>2022-11-18</td>\n",
       "      <td>Услуги по проведению финансового аудита</td>\n",
       "      <td>0</td>\n",
       "      <td>271000.0</td>\n",
       "      <td>1</td>\n",
       "      <td>69.2</td>\n",
       "      <td>Услуги по проведению финансового аудита</td>\n",
       "      <td>Услуги по проведению финансового аудита</td>\n",
       "      <td>104753</td>\n",
       "      <td>1</td>\n",
       "    </tr>\n",
       "    <tr>\n",
       "      <th>4</th>\n",
       "      <td>2</td>\n",
       "      <td>2</td>\n",
       "      <td>2022-11-18</td>\n",
       "      <td>Услуги по проведению финансового аудита</td>\n",
       "      <td>0</td>\n",
       "      <td>271000.0</td>\n",
       "      <td>1</td>\n",
       "      <td>69.2</td>\n",
       "      <td>Услуги по проведению финансового аудита</td>\n",
       "      <td>Услуги по проведению финансового аудита</td>\n",
       "      <td>11259</td>\n",
       "      <td>0</td>\n",
       "    </tr>\n",
       "  </tbody>\n",
       "</table>\n",
       "</div>"
      ],
      "text/plain": [
       "  purchase region_code min_publish_date  \\\n",
       "0        1           2       2021-11-24   \n",
       "1        1           2       2021-11-24   \n",
       "2        1           2       2021-11-24   \n",
       "3        2           2       2022-11-18   \n",
       "4        2           2       2022-11-18   \n",
       "\n",
       "                             purchase_name  forsmallbiz     price customer  \\\n",
       "0  Услуги по проведению финансового аудита            0  190000.0        1   \n",
       "1  Услуги по проведению финансового аудита            0  190000.0        1   \n",
       "2  Услуги по проведению финансового аудита            0  190000.0        1   \n",
       "3  Услуги по проведению финансового аудита            0  271000.0        1   \n",
       "4  Услуги по проведению финансового аудита            0  271000.0        1   \n",
       "\n",
       "  okpd2_code                              okpd2_names  \\\n",
       "0       69.2  Услуги по проведению финансового аудита   \n",
       "1       69.2  Услуги по проведению финансового аудита   \n",
       "2       69.2  Услуги по проведению финансового аудита   \n",
       "3       69.2  Услуги по проведению финансового аудита   \n",
       "4       69.2  Услуги по проведению финансового аудита   \n",
       "\n",
       "                         item_descriptions supplier  is_winner  \n",
       "0  Услуги по проведению финансового аудита   104753          1  \n",
       "1  Услуги по проведению финансового аудита   104929          0  \n",
       "2  Услуги по проведению финансового аудита    37544          0  \n",
       "3  Услуги по проведению финансового аудита   104753          1  \n",
       "4  Услуги по проведению финансового аудита    11259          0  "
      ]
     },
     "execution_count": 23,
     "metadata": {},
     "output_type": "execute_result"
    }
   ],
   "source": [
    "df[:5]"
   ]
  },
  {
   "cell_type": "code",
   "execution_count": 24,
   "id": "e228fa3d",
   "metadata": {},
   "outputs": [],
   "source": [
    "df['reg_code_small'] = df['okpd2_code'].astype('str') + '_' \\\n",
    "                + df['region_code'].astype('str') + '_' \\\n",
    "                + df['forsmallbiz'].astype('str')"
   ]
  },
  {
   "cell_type": "code",
   "execution_count": 25,
   "id": "45e58278",
   "metadata": {},
   "outputs": [],
   "source": [
    "df = df.sort_values(['supplier', 'min_publish_date'])"
   ]
  },
  {
   "cell_type": "code",
   "execution_count": 26,
   "id": "5725f9aa",
   "metadata": {},
   "outputs": [
    {
     "data": {
      "text/html": [
       "<div>\n",
       "<style scoped>\n",
       "    .dataframe tbody tr th:only-of-type {\n",
       "        vertical-align: middle;\n",
       "    }\n",
       "\n",
       "    .dataframe tbody tr th {\n",
       "        vertical-align: top;\n",
       "    }\n",
       "\n",
       "    .dataframe thead th {\n",
       "        text-align: right;\n",
       "    }\n",
       "</style>\n",
       "<table border=\"1\" class=\"dataframe\">\n",
       "  <thead>\n",
       "    <tr style=\"text-align: right;\">\n",
       "      <th></th>\n",
       "      <th>purchase</th>\n",
       "      <th>region_code</th>\n",
       "      <th>min_publish_date</th>\n",
       "      <th>purchase_name</th>\n",
       "      <th>forsmallbiz</th>\n",
       "      <th>price</th>\n",
       "      <th>customer</th>\n",
       "      <th>okpd2_code</th>\n",
       "      <th>okpd2_names</th>\n",
       "      <th>item_descriptions</th>\n",
       "      <th>supplier</th>\n",
       "      <th>is_winner</th>\n",
       "      <th>reg_code_small</th>\n",
       "    </tr>\n",
       "  </thead>\n",
       "  <tbody>\n",
       "    <tr>\n",
       "      <th>8</th>\n",
       "      <td>3</td>\n",
       "      <td>2</td>\n",
       "      <td>2021-02-02</td>\n",
       "      <td>оказание информационных услуг с использованием...</td>\n",
       "      <td>1</td>\n",
       "      <td>290000.00</td>\n",
       "      <td>2</td>\n",
       "      <td>58.2</td>\n",
       "      <td>Услуги по предоставлению лицензий на право исп...</td>\n",
       "      <td>оказание информационных услуг с использованием...</td>\n",
       "      <td>1</td>\n",
       "      <td>1</td>\n",
       "      <td>58.2_2_1</td>\n",
       "    </tr>\n",
       "    <tr>\n",
       "      <th>8151</th>\n",
       "      <td>2834</td>\n",
       "      <td>2</td>\n",
       "      <td>2021-02-02</td>\n",
       "      <td>Оказание информационных услуг с использованием...</td>\n",
       "      <td>1</td>\n",
       "      <td>105000.00</td>\n",
       "      <td>218</td>\n",
       "      <td>62.0</td>\n",
       "      <td>Оригиналы программного обеспечения прочие</td>\n",
       "      <td>Оказание информационных услуг с использованием...</td>\n",
       "      <td>1</td>\n",
       "      <td>1</td>\n",
       "      <td>62.0_2_1</td>\n",
       "    </tr>\n",
       "    <tr>\n",
       "      <th>457484</th>\n",
       "      <td>154949</td>\n",
       "      <td>2</td>\n",
       "      <td>2021-02-16</td>\n",
       "      <td>Оказание услуг по сопровождению (обновлению) с...</td>\n",
       "      <td>1</td>\n",
       "      <td>98967.50</td>\n",
       "      <td>11235</td>\n",
       "      <td>63.9</td>\n",
       "      <td>Услуги информационные автоматизированные компь...</td>\n",
       "      <td>Информационные услуги с использованием экземпл...</td>\n",
       "      <td>1</td>\n",
       "      <td>1</td>\n",
       "      <td>63.9_2_1</td>\n",
       "    </tr>\n",
       "    <tr>\n",
       "      <th>437783</th>\n",
       "      <td>147950</td>\n",
       "      <td>2</td>\n",
       "      <td>2021-03-10</td>\n",
       "      <td>Оказание информационных услуг с использованием...</td>\n",
       "      <td>0</td>\n",
       "      <td>77460.03</td>\n",
       "      <td>11061</td>\n",
       "      <td>62.0</td>\n",
       "      <td>Услуги по технической поддержке в области инфо...</td>\n",
       "      <td>Оказание информационных услуг с использованием...</td>\n",
       "      <td>1</td>\n",
       "      <td>1</td>\n",
       "      <td>62.0_2_0</td>\n",
       "    </tr>\n",
       "    <tr>\n",
       "      <th>488119</th>\n",
       "      <td>165990</td>\n",
       "      <td>2</td>\n",
       "      <td>2021-03-26</td>\n",
       "      <td>Обновление с использованием экземпляров Систем...</td>\n",
       "      <td>0</td>\n",
       "      <td>138000.00</td>\n",
       "      <td>11558</td>\n",
       "      <td>62.0</td>\n",
       "      <td>Услуги по технической поддержке информационных...</td>\n",
       "      <td>услуги по обновлению с использованием экземпля...</td>\n",
       "      <td>1</td>\n",
       "      <td>1</td>\n",
       "      <td>62.0_2_0</td>\n",
       "    </tr>\n",
       "  </tbody>\n",
       "</table>\n",
       "</div>"
      ],
      "text/plain": [
       "       purchase region_code min_publish_date  \\\n",
       "8             3           2       2021-02-02   \n",
       "8151       2834           2       2021-02-02   \n",
       "457484   154949           2       2021-02-16   \n",
       "437783   147950           2       2021-03-10   \n",
       "488119   165990           2       2021-03-26   \n",
       "\n",
       "                                            purchase_name  forsmallbiz  \\\n",
       "8       оказание информационных услуг с использованием...            1   \n",
       "8151    Оказание информационных услуг с использованием...            1   \n",
       "457484  Оказание услуг по сопровождению (обновлению) с...            1   \n",
       "437783  Оказание информационных услуг с использованием...            0   \n",
       "488119  Обновление с использованием экземпляров Систем...            0   \n",
       "\n",
       "            price customer okpd2_code  \\\n",
       "8       290000.00        2       58.2   \n",
       "8151    105000.00      218       62.0   \n",
       "457484   98967.50    11235       63.9   \n",
       "437783   77460.03    11061       62.0   \n",
       "488119  138000.00    11558       62.0   \n",
       "\n",
       "                                              okpd2_names  \\\n",
       "8       Услуги по предоставлению лицензий на право исп...   \n",
       "8151            Оригиналы программного обеспечения прочие   \n",
       "457484  Услуги информационные автоматизированные компь...   \n",
       "437783  Услуги по технической поддержке в области инфо...   \n",
       "488119  Услуги по технической поддержке информационных...   \n",
       "\n",
       "                                        item_descriptions supplier  is_winner  \\\n",
       "8       оказание информационных услуг с использованием...        1          1   \n",
       "8151    Оказание информационных услуг с использованием...        1          1   \n",
       "457484  Информационные услуги с использованием экземпл...        1          1   \n",
       "437783  Оказание информационных услуг с использованием...        1          1   \n",
       "488119  услуги по обновлению с использованием экземпля...        1          1   \n",
       "\n",
       "       reg_code_small  \n",
       "8            58.2_2_1  \n",
       "8151         62.0_2_1  \n",
       "457484       63.9_2_1  \n",
       "437783       62.0_2_0  \n",
       "488119       62.0_2_0  "
      ]
     },
     "execution_count": 26,
     "metadata": {},
     "output_type": "execute_result"
    }
   ],
   "source": [
    "df[:5]"
   ]
  },
  {
   "cell_type": "code",
   "execution_count": 27,
   "id": "dfdcb5f5",
   "metadata": {},
   "outputs": [],
   "source": [
    "df_mod = df.copy()"
   ]
  },
  {
   "cell_type": "code",
   "execution_count": 28,
   "id": "3e28770a",
   "metadata": {},
   "outputs": [],
   "source": [
    "df_mod = df_mod.drop(columns=['region_code', 'forsmallbiz', 'okpd2_code'])"
   ]
  },
  {
   "cell_type": "code",
   "execution_count": 29,
   "id": "bb5aba0a",
   "metadata": {},
   "outputs": [],
   "source": [
    "df_mod = df_mod.sort_values(['supplier', 'min_publish_date'])"
   ]
  },
  {
   "cell_type": "code",
   "execution_count": 30,
   "id": "34fd79f7",
   "metadata": {},
   "outputs": [],
   "source": [
    "df_mod = df_mod.set_index(['supplier', 'purchase'])"
   ]
  },
  {
   "cell_type": "code",
   "execution_count": 31,
   "id": "d7db56f0",
   "metadata": {},
   "outputs": [
    {
     "data": {
      "text/html": [
       "<div>\n",
       "<style scoped>\n",
       "    .dataframe tbody tr th:only-of-type {\n",
       "        vertical-align: middle;\n",
       "    }\n",
       "\n",
       "    .dataframe tbody tr th {\n",
       "        vertical-align: top;\n",
       "    }\n",
       "\n",
       "    .dataframe thead th {\n",
       "        text-align: right;\n",
       "    }\n",
       "</style>\n",
       "<table border=\"1\" class=\"dataframe\">\n",
       "  <thead>\n",
       "    <tr style=\"text-align: right;\">\n",
       "      <th></th>\n",
       "      <th></th>\n",
       "      <th>min_publish_date</th>\n",
       "      <th>purchase_name</th>\n",
       "      <th>price</th>\n",
       "      <th>customer</th>\n",
       "      <th>okpd2_names</th>\n",
       "      <th>item_descriptions</th>\n",
       "      <th>is_winner</th>\n",
       "      <th>reg_code_small</th>\n",
       "    </tr>\n",
       "    <tr>\n",
       "      <th>supplier</th>\n",
       "      <th>purchase</th>\n",
       "      <th></th>\n",
       "      <th></th>\n",
       "      <th></th>\n",
       "      <th></th>\n",
       "      <th></th>\n",
       "      <th></th>\n",
       "      <th></th>\n",
       "      <th></th>\n",
       "    </tr>\n",
       "  </thead>\n",
       "  <tbody>\n",
       "    <tr>\n",
       "      <th rowspan=\"10\" valign=\"top\">1</th>\n",
       "      <th>3</th>\n",
       "      <td>2021-02-02</td>\n",
       "      <td>оказание информационных услуг с использованием...</td>\n",
       "      <td>290000.00</td>\n",
       "      <td>2</td>\n",
       "      <td>Услуги по предоставлению лицензий на право исп...</td>\n",
       "      <td>оказание информационных услуг с использованием...</td>\n",
       "      <td>1</td>\n",
       "      <td>58.2_2_1</td>\n",
       "    </tr>\n",
       "    <tr>\n",
       "      <th>2834</th>\n",
       "      <td>2021-02-02</td>\n",
       "      <td>Оказание информационных услуг с использованием...</td>\n",
       "      <td>105000.00</td>\n",
       "      <td>218</td>\n",
       "      <td>Оригиналы программного обеспечения прочие</td>\n",
       "      <td>Оказание информационных услуг с использованием...</td>\n",
       "      <td>1</td>\n",
       "      <td>62.0_2_1</td>\n",
       "    </tr>\n",
       "    <tr>\n",
       "      <th>154949</th>\n",
       "      <td>2021-02-16</td>\n",
       "      <td>Оказание услуг по сопровождению (обновлению) с...</td>\n",
       "      <td>98967.50</td>\n",
       "      <td>11235</td>\n",
       "      <td>Услуги информационные автоматизированные компь...</td>\n",
       "      <td>Информационные услуги с использованием экземпл...</td>\n",
       "      <td>1</td>\n",
       "      <td>63.9_2_1</td>\n",
       "    </tr>\n",
       "    <tr>\n",
       "      <th>147950</th>\n",
       "      <td>2021-03-10</td>\n",
       "      <td>Оказание информационных услуг с использованием...</td>\n",
       "      <td>77460.03</td>\n",
       "      <td>11061</td>\n",
       "      <td>Услуги по технической поддержке в области инфо...</td>\n",
       "      <td>Оказание информационных услуг с использованием...</td>\n",
       "      <td>1</td>\n",
       "      <td>62.0_2_0</td>\n",
       "    </tr>\n",
       "    <tr>\n",
       "      <th>165990</th>\n",
       "      <td>2021-03-26</td>\n",
       "      <td>Обновление с использованием экземпляров Систем...</td>\n",
       "      <td>138000.00</td>\n",
       "      <td>11558</td>\n",
       "      <td>Услуги по технической поддержке информационных...</td>\n",
       "      <td>услуги по обновлению с использованием экземпля...</td>\n",
       "      <td>1</td>\n",
       "      <td>62.0_2_0</td>\n",
       "    </tr>\n",
       "    <tr>\n",
       "      <th>1991</th>\n",
       "      <td>2021-11-22</td>\n",
       "      <td>Оказание  услуг по адаптации  и сопровождению ...</td>\n",
       "      <td>354240.00</td>\n",
       "      <td>169</td>\n",
       "      <td>Услуги по сопровождению компьютерных систем</td>\n",
       "      <td>Оказание услуг по адаптации и сопровождению эк...</td>\n",
       "      <td>1</td>\n",
       "      <td>62.0_2_1</td>\n",
       "    </tr>\n",
       "    <tr>\n",
       "      <th>1049</th>\n",
       "      <td>2021-11-29</td>\n",
       "      <td>Оказание услуг  по адаптации и сопровождению э...</td>\n",
       "      <td>167960.04</td>\n",
       "      <td>70</td>\n",
       "      <td>Услуги по предоставлению лицензий на право исп...</td>\n",
       "      <td>Оказание услуг по адаптации и сопровождению эк...</td>\n",
       "      <td>1</td>\n",
       "      <td>58.2_2_1</td>\n",
       "    </tr>\n",
       "    <tr>\n",
       "      <th>535051</th>\n",
       "      <td>2021-11-29</td>\n",
       "      <td>Оказание услуг по адаптации и сопровождению эк...</td>\n",
       "      <td>53280.00</td>\n",
       "      <td>11078</td>\n",
       "      <td>Услуги по сопровождению компьютерных систем</td>\n",
       "      <td>Оказание услуг по адаптации и сопровождению эк...</td>\n",
       "      <td>1</td>\n",
       "      <td>62.0_2_1</td>\n",
       "    </tr>\n",
       "    <tr>\n",
       "      <th>2435</th>\n",
       "      <td>2021-12-06</td>\n",
       "      <td>Оказание услуг по адаптации и сопровождению эк...</td>\n",
       "      <td>324360.00</td>\n",
       "      <td>201</td>\n",
       "      <td>Услуги по технической поддержке информационных...</td>\n",
       "      <td>Услуги по технической поддержке информационных...</td>\n",
       "      <td>1</td>\n",
       "      <td>62.0_2_1</td>\n",
       "    </tr>\n",
       "    <tr>\n",
       "      <th>154436</th>\n",
       "      <td>2021-12-22</td>\n",
       "      <td>Оказание услуг по адаптации и сопровождению эк...</td>\n",
       "      <td>296342.64</td>\n",
       "      <td>11156</td>\n",
       "      <td>Услуги по обработке данных</td>\n",
       "      <td>Услуги по адаптации и сопровождению экземпляро...</td>\n",
       "      <td>1</td>\n",
       "      <td>63.1_2_1</td>\n",
       "    </tr>\n",
       "  </tbody>\n",
       "</table>\n",
       "</div>"
      ],
      "text/plain": [
       "                  min_publish_date  \\\n",
       "supplier purchase                    \n",
       "1        3              2021-02-02   \n",
       "         2834           2021-02-02   \n",
       "         154949         2021-02-16   \n",
       "         147950         2021-03-10   \n",
       "         165990         2021-03-26   \n",
       "         1991           2021-11-22   \n",
       "         1049           2021-11-29   \n",
       "         535051         2021-11-29   \n",
       "         2435           2021-12-06   \n",
       "         154436         2021-12-22   \n",
       "\n",
       "                                                       purchase_name  \\\n",
       "supplier purchase                                                      \n",
       "1        3         оказание информационных услуг с использованием...   \n",
       "         2834      Оказание информационных услуг с использованием...   \n",
       "         154949    Оказание услуг по сопровождению (обновлению) с...   \n",
       "         147950    Оказание информационных услуг с использованием...   \n",
       "         165990    Обновление с использованием экземпляров Систем...   \n",
       "         1991      Оказание  услуг по адаптации  и сопровождению ...   \n",
       "         1049      Оказание услуг  по адаптации и сопровождению э...   \n",
       "         535051    Оказание услуг по адаптации и сопровождению эк...   \n",
       "         2435      Оказание услуг по адаптации и сопровождению эк...   \n",
       "         154436    Оказание услуг по адаптации и сопровождению эк...   \n",
       "\n",
       "                       price customer  \\\n",
       "supplier purchase                       \n",
       "1        3         290000.00        2   \n",
       "         2834      105000.00      218   \n",
       "         154949     98967.50    11235   \n",
       "         147950     77460.03    11061   \n",
       "         165990    138000.00    11558   \n",
       "         1991      354240.00      169   \n",
       "         1049      167960.04       70   \n",
       "         535051     53280.00    11078   \n",
       "         2435      324360.00      201   \n",
       "         154436    296342.64    11156   \n",
       "\n",
       "                                                         okpd2_names  \\\n",
       "supplier purchase                                                      \n",
       "1        3         Услуги по предоставлению лицензий на право исп...   \n",
       "         2834              Оригиналы программного обеспечения прочие   \n",
       "         154949    Услуги информационные автоматизированные компь...   \n",
       "         147950    Услуги по технической поддержке в области инфо...   \n",
       "         165990    Услуги по технической поддержке информационных...   \n",
       "         1991            Услуги по сопровождению компьютерных систем   \n",
       "         1049      Услуги по предоставлению лицензий на право исп...   \n",
       "         535051          Услуги по сопровождению компьютерных систем   \n",
       "         2435      Услуги по технической поддержке информационных...   \n",
       "         154436                           Услуги по обработке данных   \n",
       "\n",
       "                                                   item_descriptions  \\\n",
       "supplier purchase                                                      \n",
       "1        3         оказание информационных услуг с использованием...   \n",
       "         2834      Оказание информационных услуг с использованием...   \n",
       "         154949    Информационные услуги с использованием экземпл...   \n",
       "         147950    Оказание информационных услуг с использованием...   \n",
       "         165990    услуги по обновлению с использованием экземпля...   \n",
       "         1991      Оказание услуг по адаптации и сопровождению эк...   \n",
       "         1049      Оказание услуг по адаптации и сопровождению эк...   \n",
       "         535051    Оказание услуг по адаптации и сопровождению эк...   \n",
       "         2435      Услуги по технической поддержке информационных...   \n",
       "         154436    Услуги по адаптации и сопровождению экземпляро...   \n",
       "\n",
       "                   is_winner reg_code_small  \n",
       "supplier purchase                            \n",
       "1        3                 1       58.2_2_1  \n",
       "         2834              1       62.0_2_1  \n",
       "         154949            1       63.9_2_1  \n",
       "         147950            1       62.0_2_0  \n",
       "         165990            1       62.0_2_0  \n",
       "         1991              1       62.0_2_1  \n",
       "         1049              1       58.2_2_1  \n",
       "         535051            1       62.0_2_1  \n",
       "         2435              1       62.0_2_1  \n",
       "         154436            1       63.1_2_1  "
      ]
     },
     "execution_count": 31,
     "metadata": {},
     "output_type": "execute_result"
    }
   ],
   "source": [
    "df_mod[:10]"
   ]
  },
  {
   "cell_type": "markdown",
   "id": "e9d40c20",
   "metadata": {},
   "source": [
    "**Выводы**  \n",
    "- "
   ]
  },
  {
   "cell_type": "markdown",
   "id": "57c16a7b",
   "metadata": {},
   "source": [
    "- Максимальное значение цены тендера равно 5703527000, а минимальное - 0.17. Можно предположить, что среди такого большого диапазона значений есть свои ценовые сегменты.   \n",
    "- Количество уникальных значений признака purchase_name больше, чем уникальных значений item_descriptions. Это может говорить о том, что данные из признака item_descriptions дублируются в purchase_name, когда нет информации, предназначеной специально для purchase_name.  \n",
    "- Признак is_winner, содержащий информацию о результатах торгов для каждого поставщика в соответствующей закупке, может быть эффективно использован в рекомендательной системе, если при рекомендации вариантов для поставщиков будет учитываться то, с какой вероятностью они победят в выбранных торгах.  \n",
    "- Признаки region_code, forsmallbiz и okpd2_code могут служить фильтром в рекомендательной системе для некоторых поставщиков, так как переход на другие категории даже по схожими объектам может стать проблематичным.\n",
    "- Признак min_publish_date может быть полезен для определения самых релевантных рекомендаций для поставщиков, у которых большое количество участий в торгах."
   ]
  },
  {
   "cell_type": "markdown",
   "id": "1c6d7c36",
   "metadata": {},
   "source": [
    "# Гипотезы"
   ]
  },
  {
   "cell_type": "markdown",
   "id": "222ed75f",
   "metadata": {},
   "source": [
    "- Среди поставщиков можно выделить ценовые сегменты  \n",
    "- У поставщиков высокая специализация по okpd2  \n",
    "- Поставщики с большим количеством участий в закупках чаще выигравают  \n",
    "- Покупатели отдают предпочтение тем поставщикам, с которыми они уже работали   \n",
    "- В закупках с большей ценой участвует больше поставщиков, из-за чего шансы победить в них для конкретного поставщика снижаются  \n",
    "- Поставщики, которые специализируются на конкретных категориях okpd2, чаще побеждают в закупках  \n",
    "- В закупках, у которых нет ограничения на размер компании-участника, больше участников, из-за чего шансы победить в них для конкретного поставщика снижаются  \n",
    "- Сезонность влияет на участие поставщиков в закупках  \n",
    "- Сезонность влияет на количество закупок на рынке  \n",
    "- Сезонность влияет на категорий okpd2 закупок"
   ]
  },
  {
   "cell_type": "markdown",
   "id": "dc6b972a",
   "metadata": {},
   "source": [
    "## Гипотеза 1  \n",
    "Среди поставщиков можно выделить ценовые сегменты"
   ]
  },
  {
   "cell_type": "code",
   "execution_count": 32,
   "id": "c6ca8ee1",
   "metadata": {},
   "outputs": [],
   "source": [
    "#сформируем датасет со средней ценой закупки у поставщика и стандартным отклонением этой цены\n",
    "df_price = df.groupby('supplier')['price'].mean().to_frame(name='price_mean')\n",
    "df_price['price_std'] = df.groupby('supplier')['price'].std()"
   ]
  },
  {
   "cell_type": "code",
   "execution_count": 33,
   "id": "bdf3102a",
   "metadata": {},
   "outputs": [],
   "source": [
    "#стандартизируем данные и удалим выбросы для того, чтобы оценить возможность выделения кластеров на плоскости\n",
    "ss = StandardScaler()\n",
    "df_price = ss.fit_transform(df_price)\n",
    "\n",
    "#удаление выбросов делаем достаточно грязно, так как нам нужно оценить само наличие кластеров\n",
    "df_price = df_price[(df_price[:, 0] < 3) & (df_price[:, 1] < 3)]"
   ]
  },
  {
   "cell_type": "code",
   "execution_count": 34,
   "id": "bbd803aa",
   "metadata": {
    "scrolled": true
   },
   "outputs": [
    {
     "data": {
      "text/plain": [
       "(66045, 2)"
      ]
     },
     "execution_count": 34,
     "metadata": {},
     "output_type": "execute_result"
    }
   ],
   "source": [
    "df_price.shape"
   ]
  },
  {
   "cell_type": "code",
   "execution_count": 35,
   "id": "5d86fb7d",
   "metadata": {
    "scrolled": false
   },
   "outputs": [
    {
     "data": {
      "text/plain": [
       "<Axes: >"
      ]
     },
     "execution_count": 35,
     "metadata": {},
     "output_type": "execute_result"
    },
    {
     "data": {
      "image/png": "[encoded data removed]",
      "text/plain": [
       "<Figure size 640x480 with 1 Axes>"
      ]
     },
     "metadata": {},
     "output_type": "display_data"
    }
   ],
   "source": [
    "sns.scatterplot(x=df_price[:, 0], y=df_price[:, 1])"
   ]
  },
  {
   "cell_type": "markdown",
   "id": "facbfcd8",
   "metadata": {},
   "source": [
    "Из графика стандартизованных и очищенных от выбросов данных, где по x -  средняя цена закупки, а по y - стандартное отклонение цен закупок поставщиков, показывает, что по только на основания данных признаков выделить кластеры поставщиков нельзя "
   ]
  },
  {
   "cell_type": "markdown",
   "id": "4ce6c70b",
   "metadata": {},
   "source": [
    "## Гипотеза 2"
   ]
  },
  {
   "cell_type": "markdown",
   "id": "139ce68e",
   "metadata": {},
   "source": [
    "У поставщиков высокая специализация по okpd2"
   ]
  },
  {
   "cell_type": "code",
   "execution_count": 36,
   "id": "eb9d236d",
   "metadata": {},
   "outputs": [
    {
     "data": {
      "text/plain": [
       "244"
      ]
     },
     "execution_count": 36,
     "metadata": {},
     "output_type": "execute_result"
    }
   ],
   "source": [
    "df['okpd2_code'].nunique()"
   ]
  },
  {
   "cell_type": "code",
   "execution_count": 37,
   "id": "da6672ad",
   "metadata": {},
   "outputs": [],
   "source": [
    "n_unique_okpd2 = df.groupby('supplier')['okpd2_code'].nunique()"
   ]
  },
  {
   "cell_type": "code",
   "execution_count": 38,
   "id": "1a2ff051",
   "metadata": {},
   "outputs": [
    {
     "data": {
      "text/plain": [
       "<seaborn.axisgrid.FacetGrid at 0x7f12c1f4bc40>"
      ]
     },
     "execution_count": 38,
     "metadata": {},
     "output_type": "execute_result"
    },
    {
     "data": {
      "image/png": "[encoded data removed]",
      "text/plain": [
       "<Figure size 500x500 with 1 Axes>"
      ]
     },
     "metadata": {},
     "output_type": "display_data"
    }
   ],
   "source": [
    "sns.displot(x=n_unique_okpd2, kind='kde')"
   ]
  },
  {
   "cell_type": "markdown",
   "id": "f17cad1c",
   "metadata": {},
   "source": [
    "Из графика видно, что количество уникальных значений okpd2 внутри большинства поставщиков ниже 10, что значительно меньше, чем количество категорий okpd2 всего. "
   ]
  },
  {
   "cell_type": "markdown",
   "id": "8b464c61",
   "metadata": {},
   "source": [
    "# Гипотеза 3"
   ]
  },
  {
   "cell_type": "markdown",
   "id": "952e88ca",
   "metadata": {},
   "source": [
    "Поставщики с большим количеством участий в закупках чаще выигравают. "
   ]
  },
  {
   "cell_type": "code",
   "execution_count": 28,
   "id": "82b451c2",
   "metadata": {},
   "outputs": [],
   "source": [
    "df_rn = pd.DataFrame(df.groupby('supplier').size(), columns=['size'])\n",
    "df_rn['win_share'] = df[df.is_winner == 1].groupby('supplier').size() / df_rn['size'] * 100"
   ]
  },
  {
   "cell_type": "code",
   "execution_count": 29,
   "id": "93af2c23",
   "metadata": {
    "scrolled": true
   },
   "outputs": [
    {
     "data": {
      "text/html": [
       "<div>\n",
       "<style scoped>\n",
       "    .dataframe tbody tr th:only-of-type {\n",
       "        vertical-align: middle;\n",
       "    }\n",
       "\n",
       "    .dataframe tbody tr th {\n",
       "        vertical-align: top;\n",
       "    }\n",
       "\n",
       "    .dataframe thead th {\n",
       "        text-align: right;\n",
       "    }\n",
       "</style>\n",
       "<table border=\"1\" class=\"dataframe\">\n",
       "  <thead>\n",
       "    <tr style=\"text-align: right;\">\n",
       "      <th></th>\n",
       "      <th>size</th>\n",
       "      <th>win_share</th>\n",
       "    </tr>\n",
       "    <tr>\n",
       "      <th>supplier</th>\n",
       "      <th></th>\n",
       "      <th></th>\n",
       "    </tr>\n",
       "  </thead>\n",
       "  <tbody>\n",
       "    <tr>\n",
       "      <th>1</th>\n",
       "      <td>21</td>\n",
       "      <td>100.000000</td>\n",
       "    </tr>\n",
       "    <tr>\n",
       "      <th>10</th>\n",
       "      <td>7</td>\n",
       "      <td>42.857143</td>\n",
       "    </tr>\n",
       "    <tr>\n",
       "      <th>100</th>\n",
       "      <td>6</td>\n",
       "      <td>66.666667</td>\n",
       "    </tr>\n",
       "    <tr>\n",
       "      <th>1000</th>\n",
       "      <td>3</td>\n",
       "      <td>0.000000</td>\n",
       "    </tr>\n",
       "    <tr>\n",
       "      <th>10000</th>\n",
       "      <td>10</td>\n",
       "      <td>30.000000</td>\n",
       "    </tr>\n",
       "  </tbody>\n",
       "</table>\n",
       "</div>"
      ],
      "text/plain": [
       "          size   win_share\n",
       "supplier                  \n",
       "1           21  100.000000\n",
       "10           7   42.857143\n",
       "100          6   66.666667\n",
       "1000         3    0.000000\n",
       "10000       10   30.000000"
      ]
     },
     "execution_count": 29,
     "metadata": {},
     "output_type": "execute_result"
    }
   ],
   "source": [
    "df_rn[:5]"
   ]
  },
  {
   "cell_type": "code",
   "execution_count": 30,
   "id": "ba832633",
   "metadata": {},
   "outputs": [],
   "source": [
    "q1 = df_rn['size'].quantile(0.25)\n",
    "q3 = df_rn['size'].quantile(0.75)\n",
    "iqr = q3 - q1\n",
    "lower_bound = q1 - 1.5 * iqr\n",
    "upper_bound = q3 + 1.5 * iqr\n",
    "\n",
    "# фильтрация выбросов\n",
    "df_filtered = df_rn[(df_rn['size'] > lower_bound) & (df_rn['size'] < upper_bound)]"
   ]
  },
  {
   "cell_type": "code",
   "execution_count": 31,
   "id": "8d1fba2a",
   "metadata": {
    "scrolled": true
   },
   "outputs": [
    {
     "data": {
      "text/html": [
       "<div>\n",
       "<style scoped>\n",
       "    .dataframe tbody tr th:only-of-type {\n",
       "        vertical-align: middle;\n",
       "    }\n",
       "\n",
       "    .dataframe tbody tr th {\n",
       "        vertical-align: top;\n",
       "    }\n",
       "\n",
       "    .dataframe thead th {\n",
       "        text-align: right;\n",
       "    }\n",
       "</style>\n",
       "<table border=\"1\" class=\"dataframe\">\n",
       "  <thead>\n",
       "    <tr style=\"text-align: right;\">\n",
       "      <th></th>\n",
       "      <th>size</th>\n",
       "      <th>win_share</th>\n",
       "    </tr>\n",
       "    <tr>\n",
       "      <th>supplier</th>\n",
       "      <th></th>\n",
       "      <th></th>\n",
       "    </tr>\n",
       "  </thead>\n",
       "  <tbody>\n",
       "    <tr>\n",
       "      <th>10</th>\n",
       "      <td>7</td>\n",
       "      <td>42.857143</td>\n",
       "    </tr>\n",
       "    <tr>\n",
       "      <th>100</th>\n",
       "      <td>6</td>\n",
       "      <td>66.666667</td>\n",
       "    </tr>\n",
       "    <tr>\n",
       "      <th>1000</th>\n",
       "      <td>3</td>\n",
       "      <td>0.000000</td>\n",
       "    </tr>\n",
       "    <tr>\n",
       "      <th>10000</th>\n",
       "      <td>10</td>\n",
       "      <td>30.000000</td>\n",
       "    </tr>\n",
       "    <tr>\n",
       "      <th>100000</th>\n",
       "      <td>3</td>\n",
       "      <td>33.333333</td>\n",
       "    </tr>\n",
       "  </tbody>\n",
       "</table>\n",
       "</div>"
      ],
      "text/plain": [
       "          size  win_share\n",
       "supplier                 \n",
       "10           7  42.857143\n",
       "100          6  66.666667\n",
       "1000         3   0.000000\n",
       "10000       10  30.000000\n",
       "100000       3  33.333333"
      ]
     },
     "execution_count": 31,
     "metadata": {},
     "output_type": "execute_result"
    }
   ],
   "source": [
    "df_filtered[:5]"
   ]
  },
  {
   "cell_type": "code",
   "execution_count": 32,
   "id": "eee38e12",
   "metadata": {},
   "outputs": [
    {
     "data": {
      "text/plain": [
       "(88684, 2)"
      ]
     },
     "execution_count": 32,
     "metadata": {},
     "output_type": "execute_result"
    }
   ],
   "source": [
    "df_filtered.shape"
   ]
  },
  {
   "cell_type": "code",
   "execution_count": 34,
   "id": "3121de42",
   "metadata": {
    "scrolled": false
   },
   "outputs": [
    {
     "data": {
      "text/plain": [
       "<Axes: xlabel='size', ylabel='win_share'>"
      ]
     },
     "execution_count": 34,
     "metadata": {},
     "output_type": "execute_result"
    },
    {
     "data": {
      "image/png": "[encoded data removed]",
      "text/plain": [
       "<Figure size 640x480 with 1 Axes>"
      ]
     },
     "metadata": {},
     "output_type": "display_data"
    }
   ],
   "source": [
    "sns.barplot(x=df_filtered['size'], y=df_filtered.win_share)"
   ]
  },
  {
   "cell_type": "markdown",
   "id": "3fa9e6d0",
   "metadata": {},
   "source": [
    "Как видно по графику, распределение доли побед от количества участий близко к равномерному, что говорит о том, что наша гипотеза оказалась неверной."
   ]
  },
  {
   "cell_type": "markdown",
   "id": "e52d3f8e",
   "metadata": {},
   "source": [
    "# Гипотеза 4"
   ]
  },
  {
   "cell_type": "markdown",
   "id": "90b51f55",
   "metadata": {},
   "source": [
    "Покупатели отдают предпочтение тем поставщикам, с которыми они уже работали"
   ]
  },
  {
   "cell_type": "code",
   "execution_count": 62,
   "id": "8b3b9a46",
   "metadata": {
    "scrolled": true
   },
   "outputs": [
    {
     "data": {
      "text/plain": [
       "8         0\n",
       "8151      0\n",
       "457484    0\n",
       "437783    0\n",
       "488119    0\n",
       "         ..\n",
       "826828    0\n",
       "757150    0\n",
       "757165    0\n",
       "757171    0\n",
       "757195    1\n",
       "Name: n_won, Length: 958129, dtype: int64"
      ]
     },
     "execution_count": 62,
     "metadata": {},
     "output_type": "execute_result"
    }
   ],
   "source": [
    "n_won = df.groupby(['supplier', 'customer'])['is_winner'].cumcount()\n",
    "df_won = df.join(n_won.rename('n_won'), how='outer')[['is_winner', 'n_won']]\n",
    "\n",
    "df_won['flag_won'] = df_won['n_won'].apply(lambda x: 1 if x != 0 else 0)"
   ]
  },
  {
   "cell_type": "code",
   "execution_count": 68,
   "id": "27763f96",
   "metadata": {
    "scrolled": false
   },
   "outputs": [
    {
     "data": {
      "text/html": [
       "<div>\n",
       "<style scoped>\n",
       "    .dataframe tbody tr th:only-of-type {\n",
       "        vertical-align: middle;\n",
       "    }\n",
       "\n",
       "    .dataframe tbody tr th {\n",
       "        vertical-align: top;\n",
       "    }\n",
       "\n",
       "    .dataframe thead th {\n",
       "        text-align: right;\n",
       "    }\n",
       "</style>\n",
       "<table border=\"1\" class=\"dataframe\">\n",
       "  <thead>\n",
       "    <tr style=\"text-align: right;\">\n",
       "      <th></th>\n",
       "      <th>is_winner</th>\n",
       "      <th>n_won</th>\n",
       "      <th>flag_won</th>\n",
       "    </tr>\n",
       "  </thead>\n",
       "  <tbody>\n",
       "    <tr>\n",
       "      <th>8</th>\n",
       "      <td>1</td>\n",
       "      <td>0</td>\n",
       "      <td>0</td>\n",
       "    </tr>\n",
       "    <tr>\n",
       "      <th>8151</th>\n",
       "      <td>1</td>\n",
       "      <td>0</td>\n",
       "      <td>0</td>\n",
       "    </tr>\n",
       "    <tr>\n",
       "      <th>457484</th>\n",
       "      <td>1</td>\n",
       "      <td>0</td>\n",
       "      <td>0</td>\n",
       "    </tr>\n",
       "    <tr>\n",
       "      <th>437783</th>\n",
       "      <td>1</td>\n",
       "      <td>0</td>\n",
       "      <td>0</td>\n",
       "    </tr>\n",
       "    <tr>\n",
       "      <th>488119</th>\n",
       "      <td>1</td>\n",
       "      <td>0</td>\n",
       "      <td>0</td>\n",
       "    </tr>\n",
       "  </tbody>\n",
       "</table>\n",
       "</div>"
      ],
      "text/plain": [
       "        is_winner  n_won  flag_won\n",
       "8               1      0         0\n",
       "8151            1      0         0\n",
       "457484          1      0         0\n",
       "437783          1      0         0\n",
       "488119          1      0         0"
      ]
     },
     "execution_count": 68,
     "metadata": {},
     "output_type": "execute_result"
    }
   ],
   "source": [
    "df_won[:5]"
   ]
  },
  {
   "cell_type": "code",
   "execution_count": 70,
   "id": "2d86b67a",
   "metadata": {},
   "outputs": [
    {
     "data": {
      "image/png": "[encoded data removed]",
      "text/plain": [
       "<Figure size 1500x600 with 1 Axes>"
      ]
     },
     "metadata": {},
     "output_type": "display_data"
    }
   ],
   "source": [
    "barplot_group(df_won, 'flag_won', 'is_winner')"
   ]
  },
  {
   "cell_type": "markdown",
   "id": "ba903b85",
   "metadata": {},
   "source": [
    "Из графика хорошо видно, что процент победителей среди тех, кто уже побеждал в закупках с данным покупателем, значительно выше."
   ]
  },
  {
   "cell_type": "markdown",
   "id": "15887ef7",
   "metadata": {},
   "source": [
    "# Гипотеза 5"
   ]
  },
  {
   "cell_type": "markdown",
   "id": "ca0b686a",
   "metadata": {},
   "source": [
    "В закупках с большей ценой участвует больше поставщиков, из-за чего шансы победить в них для конкретного поставщика снижаются"
   ]
  },
  {
   "cell_type": "code",
   "execution_count": 93,
   "id": "c332b2cb",
   "metadata": {},
   "outputs": [],
   "source": [
    "df_sizes = df.join(df.groupby('purchase').size().rename('n_part'), \n",
    "                on='purchase', \n",
    "                how='inner')[['price', 'n_part']]"
   ]
  },
  {
   "cell_type": "code",
   "execution_count": 94,
   "id": "07ef9540",
   "metadata": {},
   "outputs": [],
   "source": [
    "q1 = df_sizes['price'].quantile(0.25)\n",
    "q3 = df_sizes['price'].quantile(0.75)\n",
    "iqr = q3 - q1\n",
    "lower_bound = q1 - 1.5 * iqr\n",
    "upper_bound = q3 + 1.5 * iqr\n",
    "\n",
    "# фильтрация выбросов\n",
    "df_filtered = df_sizes[(df_sizes['price'] > lower_bound) & (df_sizes['price'] < upper_bound)]"
   ]
  },
  {
   "cell_type": "code",
   "execution_count": 98,
   "id": "aaca67e6",
   "metadata": {
    "scrolled": true
   },
   "outputs": [
    {
     "data": {
      "text/plain": [
       "53"
      ]
     },
     "execution_count": 98,
     "metadata": {},
     "output_type": "execute_result"
    }
   ],
   "source": [
    "df_filtered.n_part.nunique()"
   ]
  },
  {
   "cell_type": "code",
   "execution_count": 101,
   "id": "b7df4977",
   "metadata": {},
   "outputs": [
    {
     "data": {
      "text/plain": [
       "<Axes: xlabel='n_part', ylabel='price'>"
      ]
     },
     "execution_count": 101,
     "metadata": {},
     "output_type": "execute_result"
    },
    {
     "data": {
      "image/png": "[encoded data removed]",
      "text/plain": [
       "<Figure size 1500x800 with 1 Axes>"
      ]
     },
     "metadata": {},
     "output_type": "display_data"
    }
   ],
   "source": [
    "fig = plt.figure(figsize=[15,8])\n",
    "sns.barplot(x=df_filtered.n_part, y=df_filtered.price)"
   ]
  },
  {
   "cell_type": "markdown",
   "id": "74cde37a",
   "metadata": {},
   "source": []
  },
  {
   "cell_type": "code",
   "execution_count": null,
   "id": "6733d487",
   "metadata": {},
   "outputs": [],
   "source": []
  },
  {
   "cell_type": "code",
   "execution_count": null,
   "id": "6d8c28d5",
   "metadata": {},
   "outputs": [],
   "source": []
  },
  {
   "cell_type": "code",
   "execution_count": 90,
   "id": "bb802bd7",
   "metadata": {},
   "outputs": [],
   "source": [
    "nlp = spacy.load(\"ru_core_news_sm\")\n",
    "\n",
    "def lemmatize_text(text: str):\n",
    "    # Создаем объект Doc для строки, который проходит через обработчики языка\n",
    "    doc = nlp(text)\n",
    "\n",
    "    return [_.lemma_ for _ in doc if _.pos_ in {'ADJ', 'NOUN', 'PROPN'}]\n",
    "\n",
    "def lemmatize_texts(texts):\n",
    "    with Pool(processes=cpu_count()-1) as pool:\n",
    "        lemmatized_texts = pool.map(lemmatize_text, texts)\n",
    "    return lemmatized_texts"
   ]
  },
  {
   "cell_type": "code",
   "execution_count": 93,
   "id": "c9e9e7f2",
   "metadata": {},
   "outputs": [],
   "source": [
    "df_mod['token_name'] = lemmatize_texts(df_mod['purchase_name'])"
   ]
  },
  {
   "cell_type": "code",
   "execution_count": 95,
   "id": "d46a182c",
   "metadata": {},
   "outputs": [],
   "source": [
    "df_mod['token_okpd'] = lemmatize_texts(df_mod['okpd2_names'])\n",
    "df_mod['token_description'] = lemmatize_texts(df_mod['item_descriptions'])"
   ]
  },
  {
   "cell_type": "code",
   "execution_count": 96,
   "id": "5dc47cfc",
   "metadata": {
    "scrolled": true
   },
   "outputs": [
    {
     "data": {
      "text/html": [
       "<div>\n",
       "<style scoped>\n",
       "    .dataframe tbody tr th:only-of-type {\n",
       "        vertical-align: middle;\n",
       "    }\n",
       "\n",
       "    .dataframe tbody tr th {\n",
       "        vertical-align: top;\n",
       "    }\n",
       "\n",
       "    .dataframe thead th {\n",
       "        text-align: right;\n",
       "    }\n",
       "</style>\n",
       "<table border=\"1\" class=\"dataframe\">\n",
       "  <thead>\n",
       "    <tr style=\"text-align: right;\">\n",
       "      <th></th>\n",
       "      <th></th>\n",
       "      <th>min_publish_date</th>\n",
       "      <th>purchase_name</th>\n",
       "      <th>price</th>\n",
       "      <th>customer</th>\n",
       "      <th>okpd2_names</th>\n",
       "      <th>item_descriptions</th>\n",
       "      <th>is_winner</th>\n",
       "      <th>reg_code_small</th>\n",
       "      <th>token_name</th>\n",
       "      <th>token_okpd</th>\n",
       "      <th>token_description</th>\n",
       "    </tr>\n",
       "    <tr>\n",
       "      <th>supplier</th>\n",
       "      <th>purchase</th>\n",
       "      <th></th>\n",
       "      <th></th>\n",
       "      <th></th>\n",
       "      <th></th>\n",
       "      <th></th>\n",
       "      <th></th>\n",
       "      <th></th>\n",
       "      <th></th>\n",
       "      <th></th>\n",
       "      <th></th>\n",
       "      <th></th>\n",
       "    </tr>\n",
       "  </thead>\n",
       "  <tbody>\n",
       "    <tr>\n",
       "      <th rowspan=\"5\" valign=\"top\">1</th>\n",
       "      <th>3</th>\n",
       "      <td>2021-02-02</td>\n",
       "      <td>оказание информационных услуг с использованием...</td>\n",
       "      <td>290000.00</td>\n",
       "      <td>2</td>\n",
       "      <td>Услуги по предоставлению лицензий на право исп...</td>\n",
       "      <td>оказание информационных услуг с использованием...</td>\n",
       "      <td>1</td>\n",
       "      <td>58.2_2_1</td>\n",
       "      <td>[оказание, информационный, услуга, использован...</td>\n",
       "      <td>[услуга, предоставление, лицензия, право, комп...</td>\n",
       "      <td>[оказание, информационный, услуга, использован...</td>\n",
       "    </tr>\n",
       "    <tr>\n",
       "      <th>2834</th>\n",
       "      <td>2021-02-02</td>\n",
       "      <td>Оказание информационных услуг с использованием...</td>\n",
       "      <td>105000.00</td>\n",
       "      <td>218</td>\n",
       "      <td>Оригиналы программного обеспечения прочие</td>\n",
       "      <td>Оказание информационных услуг с использованием...</td>\n",
       "      <td>1</td>\n",
       "      <td>62.0_2_1</td>\n",
       "      <td>[оказание, информационный, услуга, использован...</td>\n",
       "      <td>[оригинал, программный, обеспечение, прочие]</td>\n",
       "      <td>[оказание, информационный, услуга, использован...</td>\n",
       "    </tr>\n",
       "    <tr>\n",
       "      <th>154949</th>\n",
       "      <td>2021-02-16</td>\n",
       "      <td>Оказание услуг по сопровождению (обновлению) с...</td>\n",
       "      <td>98967.50</td>\n",
       "      <td>11235</td>\n",
       "      <td>Услуги информационные автоматизированные компь...</td>\n",
       "      <td>Информационные услуги с использованием экземпл...</td>\n",
       "      <td>1</td>\n",
       "      <td>63.9_2_1</td>\n",
       "      <td>[оказание, услуга, сопровождение, обновление, ...</td>\n",
       "      <td>[услуга, информационный, автоматизированный, к...</td>\n",
       "      <td>[информационный, услуга, использование, экземп...</td>\n",
       "    </tr>\n",
       "    <tr>\n",
       "      <th>147950</th>\n",
       "      <td>2021-03-10</td>\n",
       "      <td>Оказание информационных услуг с использованием...</td>\n",
       "      <td>77460.03</td>\n",
       "      <td>11061</td>\n",
       "      <td>Услуги по технической поддержке в области инфо...</td>\n",
       "      <td>Оказание информационных услуг с использованием...</td>\n",
       "      <td>1</td>\n",
       "      <td>62.0_2_0</td>\n",
       "      <td>[оказание, информационный, услуга, использован...</td>\n",
       "      <td>[услуга, технический, поддержка, область, инфо...</td>\n",
       "      <td>[оказание, информационный, услуга, использован...</td>\n",
       "    </tr>\n",
       "    <tr>\n",
       "      <th>165990</th>\n",
       "      <td>2021-03-26</td>\n",
       "      <td>Обновление с использованием экземпляров Систем...</td>\n",
       "      <td>138000.00</td>\n",
       "      <td>11558</td>\n",
       "      <td>Услуги по технической поддержке информационных...</td>\n",
       "      <td>услуги по обновлению с использованием экземпля...</td>\n",
       "      <td>1</td>\n",
       "      <td>62.0_2_0</td>\n",
       "      <td>[обновление, использование, экземпляр, систем,...</td>\n",
       "      <td>[услуга, технический, поддержка, информационны...</td>\n",
       "      <td>[услуга, обновление, использование, экземпляр,...</td>\n",
       "    </tr>\n",
       "  </tbody>\n",
       "</table>\n",
       "</div>"
      ],
      "text/plain": [
       "                  min_publish_date  \\\n",
       "supplier purchase                    \n",
       "1        3              2021-02-02   \n",
       "         2834           2021-02-02   \n",
       "         154949         2021-02-16   \n",
       "         147950         2021-03-10   \n",
       "         165990         2021-03-26   \n",
       "\n",
       "                                                       purchase_name  \\\n",
       "supplier purchase                                                      \n",
       "1        3         оказание информационных услуг с использованием...   \n",
       "         2834      Оказание информационных услуг с использованием...   \n",
       "         154949    Оказание услуг по сопровождению (обновлению) с...   \n",
       "         147950    Оказание информационных услуг с использованием...   \n",
       "         165990    Обновление с использованием экземпляров Систем...   \n",
       "\n",
       "                       price customer  \\\n",
       "supplier purchase                       \n",
       "1        3         290000.00        2   \n",
       "         2834      105000.00      218   \n",
       "         154949     98967.50    11235   \n",
       "         147950     77460.03    11061   \n",
       "         165990    138000.00    11558   \n",
       "\n",
       "                                                         okpd2_names  \\\n",
       "supplier purchase                                                      \n",
       "1        3         Услуги по предоставлению лицензий на право исп...   \n",
       "         2834              Оригиналы программного обеспечения прочие   \n",
       "         154949    Услуги информационные автоматизированные компь...   \n",
       "         147950    Услуги по технической поддержке в области инфо...   \n",
       "         165990    Услуги по технической поддержке информационных...   \n",
       "\n",
       "                                                   item_descriptions  \\\n",
       "supplier purchase                                                      \n",
       "1        3         оказание информационных услуг с использованием...   \n",
       "         2834      Оказание информационных услуг с использованием...   \n",
       "         154949    Информационные услуги с использованием экземпл...   \n",
       "         147950    Оказание информационных услуг с использованием...   \n",
       "         165990    услуги по обновлению с использованием экземпля...   \n",
       "\n",
       "                   is_winner reg_code_small  \\\n",
       "supplier purchase                             \n",
       "1        3                 1       58.2_2_1   \n",
       "         2834              1       62.0_2_1   \n",
       "         154949            1       63.9_2_1   \n",
       "         147950            1       62.0_2_0   \n",
       "         165990            1       62.0_2_0   \n",
       "\n",
       "                                                          token_name  \\\n",
       "supplier purchase                                                      \n",
       "1        3         [оказание, информационный, услуга, использован...   \n",
       "         2834      [оказание, информационный, услуга, использован...   \n",
       "         154949    [оказание, услуга, сопровождение, обновление, ...   \n",
       "         147950    [оказание, информационный, услуга, использован...   \n",
       "         165990    [обновление, использование, экземпляр, систем,...   \n",
       "\n",
       "                                                          token_okpd  \\\n",
       "supplier purchase                                                      \n",
       "1        3         [услуга, предоставление, лицензия, право, комп...   \n",
       "         2834           [оригинал, программный, обеспечение, прочие]   \n",
       "         154949    [услуга, информационный, автоматизированный, к...   \n",
       "         147950    [услуга, технический, поддержка, область, инфо...   \n",
       "         165990    [услуга, технический, поддержка, информационны...   \n",
       "\n",
       "                                                   token_description  \n",
       "supplier purchase                                                     \n",
       "1        3         [оказание, информационный, услуга, использован...  \n",
       "         2834      [оказание, информационный, услуга, использован...  \n",
       "         154949    [информационный, услуга, использование, экземп...  \n",
       "         147950    [оказание, информационный, услуга, использован...  \n",
       "         165990    [услуга, обновление, использование, экземпляр,...  "
      ]
     },
     "execution_count": 96,
     "metadata": {},
     "output_type": "execute_result"
    }
   ],
   "source": [
    "df_mod[:5]"
   ]
  },
  {
   "cell_type": "code",
   "execution_count": 98,
   "id": "442ab713",
   "metadata": {},
   "outputs": [],
   "source": [
    "df_mod = df_mod.drop(columns=['purchase_name', 'okpd2_names', 'item_descriptions'])"
   ]
  },
  {
   "cell_type": "code",
   "execution_count": 100,
   "id": "4c1ad906",
   "metadata": {},
   "outputs": [],
   "source": [
    "df_mod.to_csv('df_mod.csv')"
   ]
  },
  {
   "cell_type": "code",
   "execution_count": null,
   "id": "f3cdd501",
   "metadata": {},
   "outputs": [],
   "source": []
  }
 ],
 "metadata": {
  "kernelspec": {
   "display_name": "Python 3 (ipykernel)",
   "language": "python",
   "name": "python3"
  },
  "language_info": {
   "codemirror_mode": {
    "name": "ipython",
    "version": 3
   },
   "file_extension": ".py",
   "mimetype": "text/x-python",
   "name": "python",
   "nbconvert_exporter": "python",
   "pygments_lexer": "ipython3",
   "version": "3.10.7"
  }
 },
 "nbformat": 4,
 "nbformat_minor": 5
}
